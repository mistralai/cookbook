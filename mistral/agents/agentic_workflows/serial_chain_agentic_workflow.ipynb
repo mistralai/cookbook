{
  "cells": [
    {
      "cell_type": "markdown",
      "metadata": {
        "id": "UFJlJ6QIn_8z"
      },
      "source": [
        "# Serial Chain Agent Workflow - Content Repurposing\n",
        "\n",
        "<a href=\"https://colab.research.google.com/github/mistralai/cookbook/blob/main/mistral/agents/agentic_workflows/serial_chain_agentic_workflow.ipynb\" target=\"_parent\"><img src=\"https://colab.research.google.com/assets/colab-badge.svg\" alt=\"Open In Colab\"/></a>\n",
        "\n",
        "## Introduction\n",
        "\n",
        "In this implementation, we'll explore how to build an LLM agent workflow that transforms long-form content into engaging Twitter threads using a series of specialized LLM calls.\n",
        "\n",
        "The **serial chain agent workflow** represents a powerful pattern for complex content generation and transformation tasks. At its core, this approach involves making sequential calls to language models, where each call builds upon the output of the previous one. This creates a chain of specialized processing steps that progressively refine the content toward the desired output.\n",
        "\n",
        "Our content repurposing workflow demonstrates this pattern perfectly. We start with a blog post or video transcript and transform it into a carefully crafted Twitter thread through the following sequential steps:\n",
        "\n",
        "1. **LLM Call 1: Extract Key Information** - Analyze the source content to identify the most valuable insights, statistics, quotes, and main arguments\n",
        "2. **LLM Call 2: Structure Thread Flow** - Organize the extracted information into a logical thread structure with a compelling hook and satisfying conclusion\n",
        "3. **LLM Call 3: Generate Tweet Text** - Transform the structured outline into actual tweet text, ensuring each tweet is engaging and within character limits\n",
        "4. **LLM Call 4: Enhance Engagement** - Add hashtags, call-to-actions, and visual content suggestions to maximize engagement\n",
        "\n",
        "## Understanding Serial Chain Workflow\n",
        "\n",
        "The power of the serial chain pattern lies in its simplicity and flexibility. Each LLM in the chain performs a specialized task, focusing on one aspect of the overall process. This division allows LLM to excel at a specific task rather than trying to handle the entire complex task at once.\n",
        "\n",
        "The workflow processes the input content through consecutive LLM calls, with each step taking the output from the previous call and transforming it further. This sequential processing creates a pipeline where the content becomes increasingly refined and specialized toward the target format with each step.\n",
        "\n",
        "Let's examine how this serial chain workflow can be implemented using MistralAI LLMs to create a powerful content repurposing system that transforms verbose blog content into concise, engaging social media formats."
      ]
    },
    {
      "cell_type": "markdown",
      "metadata": {},
      "source": [
        "## Solution Architecture\n",
        "\n",
        "![solution architecture](./images/serial_chain_agentic_workflow.png)"
      ]
    },
    {
      "cell_type": "markdown",
      "metadata": {
        "id": "5Qbo5sDNoqs5"
      },
      "source": [
        "### Installation"
      ]
    },
    {
      "cell_type": "code",
      "execution_count": null,
      "metadata": {
        "colab": {
          "base_uri": "https://localhost:8080/"
        },
        "id": "Bjh30Di0tz6H",
        "outputId": "8e433503-ab25-4f2f-8cd4-c9e45d006439"
      },
      "outputs": [
        {
          "name": "stdout",
          "output_type": "stream",
          "text": [
            "Collecting mistralai==1.5.0\n",
            "  Downloading mistralai-1.5.0-py3-none-any.whl.metadata (29 kB)\n",
            "Collecting eval-type-backport>=0.2.0 (from mistralai==1.5.0)\n",
            "  Downloading eval_type_backport-0.2.2-py3-none-any.whl.metadata (2.2 kB)\n",
            "Requirement already satisfied: httpx>=0.27.0 in /usr/local/lib/python3.11/dist-packages (from mistralai==1.5.0) (0.28.1)\n",
            "Collecting jsonpath-python>=1.0.6 (from mistralai==1.5.0)\n",
            "  Downloading jsonpath_python-1.0.6-py3-none-any.whl.metadata (12 kB)\n",
            "Requirement already satisfied: pydantic>=2.9.0 in /usr/local/lib/python3.11/dist-packages (from mistralai==1.5.0) (2.11.3)\n",
            "Requirement already satisfied: python-dateutil>=2.8.2 in /usr/local/lib/python3.11/dist-packages (from mistralai==1.5.0) (2.8.2)\n",
            "Collecting typing-inspect>=0.9.0 (from mistralai==1.5.0)\n",
            "  Downloading typing_inspect-0.9.0-py3-none-any.whl.metadata (1.5 kB)\n",
            "Requirement already satisfied: anyio in /usr/local/lib/python3.11/dist-packages (from httpx>=0.27.0->mistralai==1.5.0) (4.9.0)\n",
            "Requirement already satisfied: certifi in /usr/local/lib/python3.11/dist-packages (from httpx>=0.27.0->mistralai==1.5.0) (2025.1.31)\n",
            "Requirement already satisfied: httpcore==1.* in /usr/local/lib/python3.11/dist-packages (from httpx>=0.27.0->mistralai==1.5.0) (1.0.7)\n",
            "Requirement already satisfied: idna in /usr/local/lib/python3.11/dist-packages (from httpx>=0.27.0->mistralai==1.5.0) (3.10)\n",
            "Requirement already satisfied: h11<0.15,>=0.13 in /usr/local/lib/python3.11/dist-packages (from httpcore==1.*->httpx>=0.27.0->mistralai==1.5.0) (0.14.0)\n",
            "Requirement already satisfied: annotated-types>=0.6.0 in /usr/local/lib/python3.11/dist-packages (from pydantic>=2.9.0->mistralai==1.5.0) (0.7.0)\n",
            "Requirement already satisfied: pydantic-core==2.33.1 in /usr/local/lib/python3.11/dist-packages (from pydantic>=2.9.0->mistralai==1.5.0) (2.33.1)\n",
            "Requirement already satisfied: typing-extensions>=4.12.2 in /usr/local/lib/python3.11/dist-packages (from pydantic>=2.9.0->mistralai==1.5.0) (4.13.1)\n",
            "Requirement already satisfied: typing-inspection>=0.4.0 in /usr/local/lib/python3.11/dist-packages (from pydantic>=2.9.0->mistralai==1.5.0) (0.4.0)\n",
            "Requirement already satisfied: six>=1.5 in /usr/local/lib/python3.11/dist-packages (from python-dateutil>=2.8.2->mistralai==1.5.0) (1.17.0)\n",
            "Collecting mypy-extensions>=0.3.0 (from typing-inspect>=0.9.0->mistralai==1.5.0)\n",
            "  Downloading mypy_extensions-1.0.0-py3-none-any.whl.metadata (1.1 kB)\n",
            "Requirement already satisfied: sniffio>=1.1 in /usr/local/lib/python3.11/dist-packages (from anyio->httpx>=0.27.0->mistralai==1.5.0) (1.3.1)\n",
            "Downloading mistralai-1.5.0-py3-none-any.whl (271 kB)\n",
            "\u001b[2K   \u001b[90m━━━━━━━━━━━━━━━━━━━━━━━━━━━━━━━━━━━━━━━━\u001b[0m \u001b[32m271.6/271.6 kB\u001b[0m \u001b[31m7.3 MB/s\u001b[0m eta \u001b[36m0:00:00\u001b[0m\n",
            "\u001b[?25hDownloading eval_type_backport-0.2.2-py3-none-any.whl (5.8 kB)\n",
            "Downloading jsonpath_python-1.0.6-py3-none-any.whl (7.6 kB)\n",
            "Downloading typing_inspect-0.9.0-py3-none-any.whl (8.8 kB)\n",
            "Downloading mypy_extensions-1.0.0-py3-none-any.whl (4.7 kB)\n",
            "Installing collected packages: mypy-extensions, jsonpath-python, eval-type-backport, typing-inspect, mistralai\n",
            "Successfully installed eval-type-backport-0.2.2 jsonpath-python-1.0.6 mistralai-1.5.0 mypy-extensions-1.0.0 typing-inspect-0.9.0\n"
          ]
        }
      ],
      "source": [
        "!pip install -U mistralai"
      ]
    },
    {
      "cell_type": "markdown",
      "metadata": {
        "id": "RUcTRMNWotJd"
      },
      "source": [
        "### Imports"
      ]
    },
    {
      "cell_type": "code",
      "execution_count": null,
      "metadata": {
        "id": "PYCZ09m_rqxl"
      },
      "outputs": [],
      "source": [
        "import os\n",
        "from mistralai import Mistral\n",
        "from typing import List, Dict, Any, Optional\n",
        "import json\n",
        "from IPython.display import display, Markdown"
      ]
    },
    {
      "cell_type": "markdown",
      "metadata": {
        "id": "YSNoY5zxouZd"
      },
      "source": [
        "### Initialize the Mistral client"
      ]
    },
    {
      "cell_type": "code",
      "execution_count": null,
      "metadata": {
        "id": "nIfv--dxsBP4"
      },
      "outputs": [],
      "source": [
        "api_key = \"<YOUR MISTRAL API KEY>\" # get it from https://console.mistral.ai\n",
        "model = \"mistral-small-latest\"\n",
        "client = Mistral(api_key=api_key)"
      ]
    },
    {
      "cell_type": "markdown",
      "metadata": {
        "id": "kULbb677ow0w"
      },
      "source": [
        "### Execute LLM Query\n",
        "\n",
        "Fucntion to execute a query with Mistral LLM with the given prompt and optional system prompt."
      ]
    },
    {
      "cell_type": "code",
      "execution_count": null,
      "metadata": {
        "id": "tSu7xfi6sBV_"
      },
      "outputs": [],
      "source": [
        "def execute_llm_query(prompt: str, system_prompt: Optional[str] = None) -> str:\n",
        "    \"\"\"Run Mistral LLM with the given prompt and optional system prompt.\"\"\"\n",
        "    messages = []\n",
        "    if system_prompt:\n",
        "        messages.append({\"role\": \"system\", \"content\": system_prompt})\n",
        "\n",
        "    messages.append({\"role\": \"user\", \"content\": prompt})\n",
        "\n",
        "    response = client.chat.complete(\n",
        "        model=model,\n",
        "        messages=messages,\n",
        "    )\n",
        "\n",
        "    return response.choices[0].message.content"
      ]
    },
    {
      "cell_type": "markdown",
      "metadata": {
        "id": "9PGtyrx9ptBB"
      },
      "source": [
        "### Extract Key Information\n",
        "\n",
        "LLM Call 1 to extract key information from the original blogpost or video transcript."
      ]
    },
    {
      "cell_type": "code",
      "execution_count": null,
      "metadata": {
        "id": "NXm6jo_1sDhV"
      },
      "outputs": [],
      "source": [
        "def extract_key_information(content: str) -> str:\n",
        "    \"\"\"\n",
        "    LLM Call 1: Extract key information from the original content.\n",
        "\n",
        "    Args:\n",
        "        content: The original blog post or video transcript\n",
        "\n",
        "    Returns:\n",
        "        Extracted key points, insights, and quotable moments\n",
        "    \"\"\"\n",
        "    system_prompt = \"\"\"You are an expert content analyst. Your task is to extract the most important\n",
        "    information from the provided content. Focus on key insights, main arguments,\n",
        "    surprising facts, statistics, and quotable moments that would resonate with a social media audience.\n",
        "    Organize your output as a structured list with priority rankings.\"\"\"\n",
        "\n",
        "    user_prompt = f\"\"\"Please extract the most important and engaging information from the following content.\n",
        "    Focus on extracting:\n",
        "    1. The main thesis or argument\n",
        "    2. Key supporting points (limit to 5-7)\n",
        "    3. Surprising facts or statistics\n",
        "    4. Quotable moments or compelling phrases\n",
        "    5. Any counterintuitive insights\n",
        "\n",
        "    For each extracted item, include a relevance score from 1-10 to indicate its importance.\n",
        "\n",
        "    CONTENT:\n",
        "    {content}\n",
        "    \"\"\"\n",
        "\n",
        "    return execute_llm_query(user_prompt, system_prompt)"
      ]
    },
    {
      "cell_type": "markdown",
      "metadata": {
        "id": "mH5LXByEp4Um"
      },
      "source": [
        "### Create Thread Structure\n",
        "\n",
        "LLM Call 2 to create a logical thread structure from the extracted information."
      ]
    },
    {
      "cell_type": "code",
      "execution_count": null,
      "metadata": {
        "id": "gB5VB7GesJYc"
      },
      "outputs": [],
      "source": [
        "def create_thread_structure(extracted_info: str) -> str:\n",
        "    \"\"\"\n",
        "    LLM Call 2: Create a logical thread structure from the extracted information.\n",
        "\n",
        "    Args:\n",
        "        extracted_info: The extracted key information from the first LLM call\n",
        "\n",
        "    Returns:\n",
        "        A structured outline for the tweet thread\n",
        "    \"\"\"\n",
        "    system_prompt = \"\"\"You are an expert social media strategist specializing in Twitter/X.\n",
        "    Your task is to organize extracted information into a compelling and logical tweet thread structure.\n",
        "    Focus on creating a strong hook, a clear flow between tweets, and a satisfying conclusion.\"\"\"\n",
        "\n",
        "    user_prompt = f\"\"\"Using the following extracted information, create a structured outline for\n",
        "    a Twitter thread of 5-8 tweets.\n",
        "\n",
        "    Organize the content to maximize engagement with:\n",
        "    1. A powerful hook for the first tweet that captures attention\n",
        "    2. A logical flow of information across the thread\n",
        "    3. Clear transitions between related points\n",
        "    4. A strong conclusion that leaves the reader with something to think about or do\n",
        "\n",
        "    For each tweet in the outline, include a brief note about its purpose in the thread.\n",
        "\n",
        "    EXTRACTED INFORMATION:\n",
        "    {extracted_info}\n",
        "    \"\"\"\n",
        "\n",
        "    return execute_llm_query(user_prompt, system_prompt)"
      ]
    },
    {
      "cell_type": "markdown",
      "metadata": {
        "id": "FXsNnDM7p_Qq"
      },
      "source": [
        "### Generate Tweet Thread\n",
        "\n",
        "LLM Call 3 to generate the actual tweets based on the thread structure."
      ]
    },
    {
      "cell_type": "code",
      "execution_count": null,
      "metadata": {
        "id": "6bjbEGLYsNYD"
      },
      "outputs": [],
      "source": [
        "def generate_tweet_thread(thread_structure: str) -> str:\n",
        "    \"\"\"\n",
        "    LLM Call 3: Generate the actual tweets based on the thread structure.\n",
        "\n",
        "    Args:\n",
        "        thread_structure: The structured outline from the second LLM call\n",
        "\n",
        "    Returns:\n",
        "        A complete tweet thread with numbered tweets\n",
        "    \"\"\"\n",
        "    system_prompt = \"\"\"You are a master of Twitter communication. Your task is to transform\n",
        "    a structured outline into engaging, shareable tweets for a thread. Ensure each tweet is\n",
        "    compelling on its own while flowing naturally as part of a thread. Keep each tweet under\n",
        "    280 characters. Use clear, concise language with high emotional appeal.\"\"\"\n",
        "\n",
        "    user_prompt = f\"\"\"Using the following thread structure, craft an engaging Twitter thread.\n",
        "\n",
        "    Guidelines:\n",
        "    1. Each tweet must be 280 characters or less\n",
        "    2. First tweet should hook the reader immediately\n",
        "    3. Include a clear way to indicate the tweets are connected (e.g., 1/7, 2/7)\n",
        "    4. Use simple, direct language that's easy to understand\n",
        "    5. Write in a conversational tone\n",
        "    6. Break complex ideas into digestible chunks\n",
        "    7. End the thread with a clear conclusion or call to action\n",
        "\n",
        "    THREAD STRUCTURE:\n",
        "    {thread_structure}\n",
        "\n",
        "    Format your response as a numbered list of tweets, with each tweet ready to copy and paste.\n",
        "    \"\"\"\n",
        "\n",
        "    return execute_llm_query(user_prompt, system_prompt)"
      ]
    },
    {
      "cell_type": "markdown",
      "metadata": {
        "id": "WLpc8AMqqEQ0"
      },
      "source": [
        "### Add Engagement Elements\n",
        "\n",
        "LLM Call 4 to enhance the tweet thread with engagement elements."
      ]
    },
    {
      "cell_type": "code",
      "execution_count": null,
      "metadata": {
        "id": "YkeQTyhcsNxh"
      },
      "outputs": [],
      "source": [
        "def add_engagement_elements(tweet_thread: str) -> str:\n",
        "    \"\"\"\n",
        "    LLM Call 4: Enhance the tweet thread with engagement elements.\n",
        "\n",
        "    Args:\n",
        "        tweet_thread: The generated tweet thread from the third LLM call\n",
        "\n",
        "    Returns:\n",
        "        The final enhanced tweet thread with engagement elements\n",
        "    \"\"\"\n",
        "    system_prompt = \"\"\"You are a social media engagement expert. Your task is to enhance\n",
        "    a tweet thread with elements that increase engagement, such as relevant hashtags,\n",
        "    strategic mentions, calls to action.\"\"\"\n",
        "\n",
        "    user_prompt = f\"\"\"Enhance the following tweet thread with elements to maximize engagement.\n",
        "\n",
        "    For each tweet, consider adding:\n",
        "    1. 1-3 relevant hashtags. (where appropriate, not every tweet needs hashtags)\n",
        "    2. Strategic calls to action (asks for replies, retweets, etc.)\n",
        "    3. Emoticons or Unicode symbols to add visual interest (use sparingly)\n",
        "    4. Hashtags should be at the end of the tweet in a new line.\n",
        "\n",
        "    Keep each tweet under 280 characters even after adding these elements.\n",
        "\n",
        "    TWEET THREAD:\n",
        "    {tweet_thread}\n",
        "\n",
        "    Format your response as a numbered list of enhanced tweets, ready to post.\n",
        "    \"\"\"\n",
        "\n",
        "    return execute_llm_query(user_prompt, system_prompt)"
      ]
    },
    {
      "cell_type": "markdown",
      "metadata": {
        "id": "SuSe7MgKqLJD"
      },
      "source": [
        "### Content Repurposing Chain\n",
        "\n",
        "Run the full content repurposing chain to convert a blog post or video transcript into a Twitter thread."
      ]
    },
    {
      "cell_type": "code",
      "execution_count": null,
      "metadata": {
        "id": "fu9KXFS3sRAQ"
      },
      "outputs": [],
      "source": [
        "def content_repurposing_chain(content: str) -> Dict[str, str]:\n",
        "    \"\"\"\n",
        "    Run the full content repurposing chain to convert a blog post or video transcript\n",
        "    into a Twitter thread.\n",
        "\n",
        "    Args:\n",
        "        content: The original blog post or video transcript\n",
        "\n",
        "    Returns:\n",
        "        A dictionary containing outputs from each step in the chain\n",
        "    \"\"\"\n",
        "    print(\"Step 1: Extracting key information...\")\n",
        "    extracted_info = extract_key_information(content)\n",
        "\n",
        "    print(\"Step 2: Creating thread structure...\")\n",
        "    thread_structure = create_thread_structure(extracted_info)\n",
        "\n",
        "    print(\"Step 3: Generating tweet thread...\")\n",
        "    tweet_thread = generate_tweet_thread(thread_structure)\n",
        "\n",
        "    print(\"Step 4: Adding engagement elements...\")\n",
        "    enhanced_thread = add_engagement_elements(tweet_thread)\n",
        "\n",
        "    return {\n",
        "        \"extracted_information\": extracted_info,\n",
        "        \"thread_structure\": thread_structure,\n",
        "        \"base_tweet_thread\": tweet_thread,\n",
        "        \"enhanced_tweet_thread\": enhanced_thread\n",
        "    }"
      ]
    },
    {
      "cell_type": "markdown",
      "metadata": {
        "id": "MS7UfVt8q5AQ"
      },
      "source": [
        "### Sample Blog Post on AI in Healthcare"
      ]
    },
    {
      "cell_type": "code",
      "execution_count": null,
      "metadata": {
        "id": "rLv1SZ_Fq-Pz"
      },
      "outputs": [],
      "source": [
        "sample_blog_post = '''# AI and Its Effects on the Medical Industry\n",
        "\n",
        "Artificial Intelligence (AI) is rapidly transforming various sectors, and the medical industry is at the forefront of this revolution. The integration of AI in healthcare holds immense potential to improve patient outcomes, streamline operations, and drive innovation. However, it also presents challenges that need to be carefully navigated. This blog post delves into the multifaceted impact of AI on the medical industry, exploring its benefits, drawbacks, and the path forward.\n",
        "\n",
        "## The Promise of AI in Healthcare\n",
        "\n",
        "AI has the capability to analyze vast amounts of data with unprecedented speed and accuracy. In the medical field, this translates to improved diagnostics, where AI algorithms can detect patterns and anomalies that might go unnoticed by human doctors. For instance, AI can assist in the early detection of diseases such as cancer by analyzing medical images and identifying subtle changes that indicate the presence of tumors. This early detection can significantly improve patient prognoses and increase survival rates.\n",
        "\n",
        "One of the most exciting applications of AI in healthcare is the development of personalized treatment plans. By analyzing a patient's genetic information, medical history, and lifestyle factors, AI can tailor treatments to individual needs. This personalized approach can lead to more effective treatments and better patient outcomes, as it takes into account the unique characteristics of each patient. For example, AI can help identify the most suitable chemotherapy regimen for a cancer patient based on their genetic profile, reducing the trial-and-error approach that is often necessary in traditional treatment methods.\n",
        "\n",
        "AI also has the potential to enhance the efficiency of healthcare operations. Administrative tasks such as scheduling appointments, managing patient records, and even assisting in surgeries can be automated through AI. Robotic systems powered by AI can perform surgeries with greater precision and fewer complications, leading to faster recovery times for patients. Additionally, AI-driven chatbots can handle routine inquiries and provide patient education, freeing up healthcare professionals to focus on more complex tasks.\n",
        "\n",
        "Predictive analytics is another area where AI is making significant strides in the medical industry. By analyzing large datasets, AI can predict disease outbreaks, patient deterioration, and other health trends. This predictive capability allows healthcare providers to be better prepared and proactive in their approach. For example, AI can help hospitals anticipate patient volumes and allocate resources more effectively, ensuring that patients receive timely care.\n",
        "\n",
        "Remote monitoring is an emerging application of AI in healthcare that is gaining traction. AI-powered wearable devices and remote monitoring systems can track patients' vital signs and health metrics in real-time. This continuous monitoring allows for early intervention, especially for patients with chronic conditions such as diabetes or heart disease. By detecting changes in a patient's health status early, healthcare providers can intervene before a condition worsens, improving patient outcomes and reducing healthcare costs.\n",
        "\n",
        "## Challenges and Considerations\n",
        "\n",
        "While the benefits of AI in the medical industry are numerous, there are also challenges that need to be addressed. One of the primary concerns is data privacy. The use of AI in healthcare involves handling sensitive patient data, and there is a risk of data breaches and misuse. Ensuring the security and privacy of patient data is crucial to maintaining trust in AI-driven healthcare solutions. Robust data governance frameworks and stringent security measures are essential to mitigate these risks.\n",
        "\n",
        "Another challenge is the potential for bias and discrimination in AI algorithms. AI systems are trained on large datasets, and if these datasets contain biases, the AI algorithms can perpetuate these biases in their decision-making processes. This can lead to inaccurate diagnoses or treatment recommendations for certain demographic groups. To address this issue, it is important to ensure that the datasets used to train AI algorithms are diverse and representative of the entire population. Additionally, ongoing monitoring and evaluation of AI systems are necessary to identify and correct any biases that may emerge.\n",
        "\n",
        "Over-reliance on AI is another concern in the medical industry. As AI tools become more integrated into healthcare practices, there is a risk that healthcare professionals may become too dependent on them, potentially missing critical nuances that require human judgment. It is essential to strike a balance between leveraging the capabilities of AI and maintaining the clinical skills of healthcare professionals. Continuous education and training are necessary to ensure that healthcare professionals can effectively use AI tools while retaining their clinical expertise.\n",
        "\n",
        "The high initial costs of implementing AI in healthcare can be a barrier, especially for smaller healthcare providers or those in developing regions. Investing in AI technology, infrastructure, and training requires significant resources. However, the long-term benefits of AI in improving patient outcomes and streamlining operations can outweigh these initial costs. Policymakers and healthcare organizations need to work together to make AI more accessible and affordable for all.\n",
        "\n",
        "Regulatory and ethical challenges also arise with the use of AI in healthcare. Issues such as accountability for AI-driven decisions, informed consent, and the potential for job displacement need to be addressed. Clear guidelines and regulations are necessary to ensure that AI is used responsibly and ethically in the medical industry. Collaboration between healthcare providers, policymakers, and technology companies is essential to develop these guidelines and promote the responsible use of AI.\n",
        "\n",
        "## Conclusion\n",
        "\n",
        "AI has the potential to revolutionize the medical industry by improving diagnostics, personalizing treatment plans, enhancing efficiency, and enabling predictive analytics. However, it also presents challenges such as data privacy concerns, bias, over-reliance on technology, high initial costs, and regulatory hurdles. To fully realize the benefits of AI in healthcare, it is crucial to address these challenges through robust data governance, ethical guidelines, and continuous education and training for healthcare professionals. By striking a balance between innovation and caution, AI can become a powerful tool in improving patient care and outcomes, ultimately transforming the medical industry for the better.'''"
      ]
    },
    {
      "cell_type": "code",
      "execution_count": null,
      "metadata": {
        "colab": {
          "base_uri": "https://localhost:8080/"
        },
        "id": "rH4zAS1qsX9w",
        "outputId": "a6b02de6-f268-4720-e445-92aa22770fea"
      },
      "outputs": [
        {
          "name": "stdout",
          "output_type": "stream",
          "text": [
            "Step 1: Extracting key information...\n",
            "Step 2: Creating thread structure...\n",
            "Step 3: Generating tweet thread...\n",
            "Step 4: Adding engagement elements...\n"
          ]
        }
      ],
      "source": [
        "results = content_repurposing_chain(sample_blog_post)"
      ]
    },
    {
      "cell_type": "code",
      "execution_count": null,
      "metadata": {
        "colab": {
          "base_uri": "https://localhost:8080/"
        },
        "id": "R5fHVPauuV1F",
        "outputId": "2ec710ae-0dc2-442d-df13-da7f3cb16337"
      },
      "outputs": [
        {
          "data": {
            "text/plain": [
              "dict_keys(['extracted_information', 'thread_structure', 'base_tweet_thread', 'enhanced_tweet_thread'])"
            ]
          },
          "execution_count": 23,
          "metadata": {},
          "output_type": "execute_result"
        }
      ],
      "source": [
        "results.keys()"
      ]
    },
    {
      "cell_type": "markdown",
      "metadata": {
        "id": "1D-gktCRuDI3"
      },
      "source": [
        "### Final Enhanced tweet thread."
      ]
    },
    {
      "cell_type": "code",
      "execution_count": null,
      "metadata": {
        "colab": {
          "base_uri": "https://localhost:8080/",
          "height": 457
        },
        "id": "2mKdqkbyuPpv",
        "outputId": "afe39000-f17d-4f2b-858d-50a5d7c633ff"
      },
      "outputs": [
        {
          "data": {
            "text/markdown": [
              "Here's the enhanced tweet thread with increased engagement elements:\n",
              "\n",
              "1. **1/7** 🚨 Did you know AI is revolutionizing the medical industry? From early disease detection to personalized treatments, AI is transforming patient care. But it's not all smooth sailing. Let's dive into the opportunities and challenges! 🧵 What's your take on #AIinMedicine? #HealthTech\n",
              "\n",
              "2. **2/7** First up, **improved diagnostics**! AI algorithms can spot patterns and anomalies in medical data, leading to early disease detection. For example, AI can analyze medical images to identify subtle changes indicating tumors, significantly improving survival rates. 🎯 Have you heard of any success stories? #EarlyDetection #AIforHealth\n",
              "\n",
              "3. **3/7** Next, **personalized treatment plans**. AI analyzes genetic info, medical history, and lifestyle factors to tailor treatments to individual needs. This personalized approach can lead to more effective treatments and better patient outcomes. 🧬 Who's ready to see more personalized medicine? #PersonalizedMedicine #AIHealthcare\n",
              "\n",
              "4. **4/7** AI also **enhances efficiency** in healthcare. It can automate admin tasks, assist in surgeries, and handle routine inquiries. This frees up healthcare professionals to focus on more complex tasks. Plus, AI-driven chatbots can provide patient education! 🤝 Which admin tasks do you think AI could help with? #HealthcareEfficiency #AIinnovation\n",
              "\n",
              "5. **5/7** **Predictive analytics** is another game-changer. AI can predict disease outbreaks, patient deterioration, and health trends. This allows for proactive and prepared healthcare approaches, ensuring timely care. 📈 How do you think predictive analytics can improve healthcare? #PredictiveHealthcare #AIAnalytics\n",
              "\n",
              "6. **6/7** Lastly, **remote monitoring** with AI-powered wearable devices. These devices track patients' vital signs in real-time, enabling early intervention and improving outcomes for chronic conditions. 💪 Who's using wearable tech for health monitoring? #RemoteMonitoring #AIHealth\n",
              "\n",
              "7. **7/7** While AI offers immense potential, we must navigate challenges like over-reliance, high costs, and bias in algorithms. Continuous education and training are key. Let's strike a balance between innovation and caution to improve patient care! 🌟 What challenges do you see with AI in healthcare? #AIEthics #FutureofHealthcare\n",
              "\n",
              "    **BONUS TWEET** 💬 Let's keep the conversation going! Reply with your thoughts on AI in medicine, and don't forget to RT if you found this thread insightful. Together, we can shape the future of healthcare! 💪🏽 #AIinMedicine #HealthTech"
            ],
            "text/plain": [
              "<IPython.core.display.Markdown object>"
            ]
          },
          "metadata": {},
          "output_type": "display_data"
        }
      ],
      "source": [
        "display(Markdown(results['enhanced_tweet_thread']))"
      ]
    },
    {
      "cell_type": "markdown",
      "metadata": {
        "id": "_XhPnAkyuQwJ"
      },
      "source": [
        "### We can check each LLM call output individually."
      ]
    },
    {
      "cell_type": "markdown",
      "metadata": {
        "id": "WxZqskF1ujMz"
      },
      "source": [
        "#### LLM Call-1: Extract key Information"
      ]
    },
    {
      "cell_type": "code",
      "execution_count": null,
      "metadata": {
        "colab": {
          "base_uri": "https://localhost:8080/",
          "height": 855
        },
        "id": "cSS-XtifyI-X",
        "outputId": "b6006323-284e-4e16-ac3b-a99bd0795ff1"
      },
      "outputs": [
        {
          "data": {
            "text/markdown": [
              "### Key Insights from \"AI and Its Effects on the Medical Industry\"\n",
              "\n",
              "#### 1. Main Thesis or Argument\n",
              "**Relevance Score: 10**\n",
              "- **Thesis:** AI is transforming the medical industry by improving patient outcomes, streamlining operations, and driving innovation, but it also presents challenges that need to be carefully navigated.\n",
              "\n",
              "#### 2. Key Supporting Points\n",
              "**Relevance Score: 9**\n",
              "- **Improved Diagnostics:** AI algorithms can detect patterns and anomalies in medical data, leading to early disease detection and better patient prognoses.\n",
              "- **Personalized Treatment Plans:** AI can analyze genetic information, medical history, and lifestyle factors to tailor treatments to individual needs, improving effectiveness and outcomes.\n",
              "- **Enhanced Efficiency:** AI can automate administrative tasks, assist in surgeries, and handle routine inquiries, freeing up healthcare professionals for more complex tasks.\n",
              "- **Predictive Analytics:** AI can predict disease outbreaks, patient deterioration, and health trends, allowing for proactive and prepared healthcare approaches.\n",
              "- **Remote Monitoring:** AI-powered wearable devices can track patients' vital signs in real-time, enabling early intervention and improving outcomes for chronic conditions.\n",
              "\n",
              "#### 3. Surprising Facts or Statistics\n",
              "**Relevance Score: 8**\n",
              "- **Early Detection of Cancer:** AI can analyze medical images to identify subtle changes indicating the presence of tumors, significantly improving survival rates.\n",
              "- **Precision Surgery:** Robotic systems powered by AI can perform surgeries with greater precision and fewer complications, leading to faster recovery times.\n",
              "- **Predictive Capabilities:** AI can help hospitals anticipate patient volumes and allocate resources more effectively, ensuring timely care.\n",
              "\n",
              "#### 4. Quotable Moments or Compelling Phrases\n",
              "**Relevance Score: 7**\n",
              "- **\"AI has the capability to analyze vast amounts of data with unprecedented speed and accuracy.\"**\n",
              "- **\"This personalized approach can lead to more effective treatments and better patient outcomes.\"**\n",
              "- **\"AI-driven chatbots can handle routine inquiries and provide patient education, freeing up healthcare professionals to focus on more complex tasks.\"**\n",
              "- **\"Continuous education and training are necessary to ensure that healthcare professionals can effectively use AI tools while retaining their clinical expertise.\"**\n",
              "- **\"By striking a balance between innovation and caution, AI can become a powerful tool in improving patient care and outcomes.\"**\n",
              "\n",
              "#### 5. Counterintuitive Insights\n",
              "**Relevance Score: 6**\n",
              "- **Over-Reliance on AI:** There is a risk that healthcare professionals may become too dependent on AI, potentially missing critical nuances that require human judgment.\n",
              "- **High Initial Costs:** The significant resources required for AI implementation can be a barrier, especially for smaller healthcare providers or those in developing regions.\n",
              "- **Bias in AI Algorithms:** AI systems trained on biased datasets can perpetuate these biases, leading to inaccurate diagnoses or treatment recommendations for certain demographic groups."
            ],
            "text/plain": [
              "<IPython.core.display.Markdown object>"
            ]
          },
          "metadata": {},
          "output_type": "display_data"
        }
      ],
      "source": [
        "display(Markdown(results['extracted_information']))"
      ]
    },
    {
      "cell_type": "markdown",
      "metadata": {
        "id": "tADTnsCuunF5"
      },
      "source": [
        "#### LLM Call-2: Create thread structure"
      ]
    },
    {
      "cell_type": "code",
      "execution_count": null,
      "metadata": {
        "colab": {
          "base_uri": "https://localhost:8080/",
          "height": 1000
        },
        "id": "8cMx6bfXuYld",
        "outputId": "4ee3c937-065a-4a80-9cd5-550bd58b866e"
      },
      "outputs": [
        {
          "data": {
            "text/markdown": [
              "### Twitter Thread Outline\n",
              "\n",
              "#### Tweet 1/7\n",
              "**Content:**\n",
              "🚨 Did you know AI is revolutionizing the medical industry? From early disease detection to personalized treatments, AI is transforming patient care. But it's not all smooth sailing. Let's dive into the opportunities and challenges! 🧵 #AIinMedicine #HealthTech\n",
              "\n",
              "**Purpose:**\n",
              "- **Hook:** Captures attention with a powerful statement about AI's impact on medicine.\n",
              "- **Introduction:** Sets the stage for the thread by highlighting both opportunities and challenges.\n",
              "\n",
              "#### Tweet 2/7\n",
              "**Content:**\n",
              "First up, **improved diagnostics**! AI algorithms can spot patterns and anomalies in medical data, leading to early disease detection. For example, AI can analyze medical images to identify subtle changes indicating tumors, significantly improving survival rates. 🎯 #EarlyDetection #AIforHealth\n",
              "\n",
              "**Purpose:**\n",
              "- **Key Point:** Introduces the first major benefit of AI in medicine.\n",
              "- **Transition:** Leads into the next point about personalized treatment.\n",
              "\n",
              "#### Tweet 3/7\n",
              "**Content:**\n",
              "Next, **personalized treatment plans**. AI analyzes genetic info, medical history, and lifestyle factors to tailor treatments to individual needs. This personalized approach can lead to more effective treatments and better patient outcomes. 🧬 #PersonalizedMedicine #AIHealthcare\n",
              "\n",
              "**Purpose:**\n",
              "- **Key Point:** Highlights another significant benefit of AI.\n",
              "- **Transition:** Sets up the next tweet about enhanced efficiency.\n",
              "\n",
              "#### Tweet 4/7\n",
              "**Content:**\n",
              "AI also **enhances efficiency** in healthcare. It can automate admin tasks, assist in surgeries, and handle routine inquiries. This frees up healthcare professionals to focus on more complex tasks. Plus, AI-driven chatbots can provide patient education! 🤝 #HealthcareEfficiency #AIinnovation\n",
              "\n",
              "**Purpose:**\n",
              "- **Key Point:** Discusses how AI improves operational efficiency.\n",
              "- **Transition:** Leads into the next point about predictive analytics.\n",
              "\n",
              "#### Tweet 5/7\n",
              "**Content:**\n",
              "**Predictive analytics** is another game-changer. AI can predict disease outbreaks, patient deterioration, and health trends. This allows for proactive and prepared healthcare approaches, ensuring timely care. 📈 #PredictiveHealthcare #AIAnalytics\n",
              "\n",
              "**Purpose:**\n",
              "- **Key Point:** Explains the benefits of AI in predictive analytics.\n",
              "- **Transition:** Sets up the next tweet about remote monitoring.\n",
              "\n",
              "#### Tweet 6/7\n",
              "**Content:**\n",
              "Lastly, **remote monitoring** with AI-powered wearable devices. These devices track patients' vital signs in real-time, enabling early intervention and improving outcomes for chronic conditions. 💪 #RemoteMonitoring #AIHealth\n",
              "\n",
              "**Purpose:**\n",
              "- **Key Point:** Highlights the advantages of AI in remote patient monitoring.\n",
              "- **Transition:** Leads into the conclusion with a call to action.\n",
              "\n",
              "#### Tweet 7/7\n",
              "**Content:**\n",
              "While AI offers immense potential, we must navigate challenges like over-reliance, high costs, and bias in algorithms. Continuous education and training are key. Let's strike a balance between innovation and caution to improve patient care! 🌟 #AIEthics #FutureofHealthcare\n",
              "\n",
              "**Purpose:**\n",
              "- **Conclusion:** Summarizes the benefits and challenges of AI in medicine.\n",
              "- **Call to Action:** Encourages readers to think about the ethical considerations and the need for balance."
            ],
            "text/plain": [
              "<IPython.core.display.Markdown object>"
            ]
          },
          "metadata": {},
          "output_type": "display_data"
        }
      ],
      "source": [
        "display(Markdown(results['thread_structure']))"
      ]
    },
    {
      "cell_type": "markdown",
      "metadata": {
        "id": "kcHSM8VruqzN"
      },
      "source": [
        "#### LLM Call-3: Create base tweet thread"
      ]
    },
    {
      "cell_type": "code",
      "execution_count": null,
      "metadata": {
        "colab": {
          "base_uri": "https://localhost:8080/",
          "height": 324
        },
        "id": "5V77zd1sucbY",
        "outputId": "da152c16-2f31-4ab0-ce62-eec073ad47ec"
      },
      "outputs": [
        {
          "data": {
            "text/markdown": [
              "1. **1/7** 🚨 Did you know AI is revolutionizing the medical industry? From early disease detection to personalized treatments, AI is transforming patient care. But it's not all smooth sailing. Let's dive into the opportunities and challenges! 🧵 #AIinMedicine #HealthTech\n",
              "\n",
              "2. **2/7** First up, **improved diagnostics**! AI algorithms can spot patterns and anomalies in medical data, leading to early disease detection. For example, AI can analyze medical images to identify subtle changes indicating tumors, significantly improving survival rates. 🎯 #EarlyDetection #AIforHealth\n",
              "\n",
              "3. **3/7** Next, **personalized treatment plans**. AI analyzes genetic info, medical history, and lifestyle factors to tailor treatments to individual needs. This personalized approach can lead to more effective treatments and better patient outcomes. 🧬 #PersonalizedMedicine #AIHealthcare\n",
              "\n",
              "4. **4/7** AI also **enhances efficiency** in healthcare. It can automate admin tasks, assist in surgeries, and handle routine inquiries. This frees up healthcare professionals to focus on more complex tasks. Plus, AI-driven chatbots can provide patient education! 🤝 #HealthcareEfficiency #AIinnovation\n",
              "\n",
              "5. **5/7** **Predictive analytics** is another game-changer. AI can predict disease outbreaks, patient deterioration, and health trends. This allows for proactive and prepared healthcare approaches, ensuring timely care. 📈 #PredictiveHealthcare #AIAnalytics\n",
              "\n",
              "6. **6/7** Lastly, **remote monitoring** with AI-powered wearable devices. These devices track patients' vital signs in real-time, enabling early intervention and improving outcomes for chronic conditions. 💪 #RemoteMonitoring #AIHealth\n",
              "\n",
              "7. **7/7** While AI offers immense potential, we must navigate challenges like over-reliance, high costs, and bias in algorithms. Continuous education and training are key. Let's strike a balance between innovation and caution to improve patient care! 🌟 #AIEthics #FutureofHealthcare"
            ],
            "text/plain": [
              "<IPython.core.display.Markdown object>"
            ]
          },
          "metadata": {},
          "output_type": "display_data"
        }
      ],
      "source": [
        "display(Markdown(results['base_tweet_thread']))"
      ]
    },
    {
      "cell_type": "markdown",
      "metadata": {
        "id": "LJt6P4ZzuxOA"
      },
      "source": [
        "#### LLM Call-4: Ehanced Tweet Thread"
      ]
    },
    {
      "cell_type": "code",
      "execution_count": null,
      "metadata": {
        "colab": {
          "base_uri": "https://localhost:8080/",
          "height": 457
        },
        "id": "eVG-Cu3PufjG",
        "outputId": "bf80ddfa-f18c-4dfc-d411-41f22257b1f8"
      },
      "outputs": [
        {
          "data": {
            "text/markdown": [
              "Here's the enhanced tweet thread with increased engagement elements:\n",
              "\n",
              "1. **1/7** 🚨 Did you know AI is revolutionizing the medical industry? From early disease detection to personalized treatments, AI is transforming patient care. But it's not all smooth sailing. Let's dive into the opportunities and challenges! 🧵 What's your take on #AIinMedicine? #HealthTech\n",
              "\n",
              "2. **2/7** First up, **improved diagnostics**! AI algorithms can spot patterns and anomalies in medical data, leading to early disease detection. For example, AI can analyze medical images to identify subtle changes indicating tumors, significantly improving survival rates. 🎯 Have you heard of any success stories? #EarlyDetection #AIforHealth\n",
              "\n",
              "3. **3/7** Next, **personalized treatment plans**. AI analyzes genetic info, medical history, and lifestyle factors to tailor treatments to individual needs. This personalized approach can lead to more effective treatments and better patient outcomes. 🧬 Who's ready to see more personalized medicine? #PersonalizedMedicine #AIHealthcare\n",
              "\n",
              "4. **4/7** AI also **enhances efficiency** in healthcare. It can automate admin tasks, assist in surgeries, and handle routine inquiries. This frees up healthcare professionals to focus on more complex tasks. Plus, AI-driven chatbots can provide patient education! 🤝 Which admin tasks do you think AI could help with? #HealthcareEfficiency #AIinnovation\n",
              "\n",
              "5. **5/7** **Predictive analytics** is another game-changer. AI can predict disease outbreaks, patient deterioration, and health trends. This allows for proactive and prepared healthcare approaches, ensuring timely care. 📈 How do you think predictive analytics can improve healthcare? #PredictiveHealthcare #AIAnalytics\n",
              "\n",
              "6. **6/7** Lastly, **remote monitoring** with AI-powered wearable devices. These devices track patients' vital signs in real-time, enabling early intervention and improving outcomes for chronic conditions. 💪 Who's using wearable tech for health monitoring? #RemoteMonitoring #AIHealth\n",
              "\n",
              "7. **7/7** While AI offers immense potential, we must navigate challenges like over-reliance, high costs, and bias in algorithms. Continuous education and training are key. Let's strike a balance between innovation and caution to improve patient care! 🌟 What challenges do you see with AI in healthcare? #AIEthics #FutureofHealthcare\n",
              "\n",
              "    **BONUS TWEET** 💬 Let's keep the conversation going! Reply with your thoughts on AI in medicine, and don't forget to RT if you found this thread insightful. Together, we can shape the future of healthcare! 💪🏽 #AIinMedicine #HealthTech"
            ],
            "text/plain": [
              "<IPython.core.display.Markdown object>"
            ]
          },
          "metadata": {},
          "output_type": "display_data"
        }
      ],
      "source": [
        "display(Markdown(results['enhanced_tweet_thread']))"
      ]
    },
    {
      "cell_type": "code",
      "execution_count": null,
      "metadata": {
        "id": "IZ9ir7IJuhwe"
      },
      "outputs": [],
      "source": []
    }
  ],
  "metadata": {
    "colab": {
      "provenance": []
    },
    "kernelspec": {
      "display_name": "Python 3",
      "name": "python3"
    },
    "language_info": {
      "name": "python"
    }
  },
  "nbformat": 4,
  "nbformat_minor": 0
}
