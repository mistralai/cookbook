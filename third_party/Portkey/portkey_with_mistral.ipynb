{
  "cells": [
    {
      "cell_type": "markdown",
      "metadata": {
        "id": "KR-QyseIBUuD"
      },
      "source": [
        "[![Open In Colab](https://colab.research.google.com/assets/colab-badge.svg)](https://colab.research.google.com/drive/16Z1AlAsW_d_mB5UK1EbailGt4laUU7E9?usp=sharing)"
      ]
    },
    {
      "cell_type": "markdown",
      "metadata": {
        "id": "LzyRJjWS8x1a"
      },
      "source": [
        "# Portkey + Mistral AI Integration\n",
        "\n",
        "[Portkey](https://portkey.ai) + Mistral AI Integration\n",
        "\n",
        "Portkey provides a robust gateway to integrate Mistral AI models into your applications with features like:\n",
        "\n",
        "- Fast AI gateway access\n",
        "- Full Stack observability with cost and 40+ metrics\n",
        "- Semantic caching\n",
        "- Automated retries & fallbacks\n",
        "- Track Custom metadata & logging dashboard\n",
        "\n",
        "This cookbook demonstrates how to effectively use Mistral models through Portkey's AI Gateway. [Link to Portkey Docs](https://portkey.ai/docs/integrations/llms/mistral-ai)"
      ]
    },
    {
      "cell_type": "markdown",
      "metadata": {
        "id": "IsWxvvu588t3"
      },
      "source": [
        "# Setup & Installation\n",
        "\n",
        "Install Portkey Python SDK and intialise the LLM client.\n",
        "\n",
        "Virtual Keys are Portkey's secure way to manage your Mistral API keys. They provide essential controls like:\n",
        "- Budget limits for API usage\n",
        "- Rate limiting capabilities\n",
        "- Secure API key storage\n",
        "\n",
        "Craeate a [Virtual Key](https://app.portkey.ai/virtual-keys) in your Portkey dashboard and save it for future use.\n",
        "\n",
        "For detailed information on budget limits, [refer to this documentation](/product/ai-gateway/virtual-keys/budget-limits)"
      ]
    },
    {
      "cell_type": "code",
      "execution_count": 39,
      "metadata": {
        "id": "_RD6HM0z8xdM"
      },
      "outputs": [
        {
          "name": "stdout",
          "output_type": "stream",
          "text": [
            "\n",
            "\u001b[1m[\u001b[0m\u001b[34;49mnotice\u001b[0m\u001b[1;39;49m]\u001b[0m\u001b[39;49m A new release of pip is available: \u001b[0m\u001b[31;49m25.0.1\u001b[0m\u001b[39;49m -> \u001b[0m\u001b[32;49m25.1.1\u001b[0m\n",
            "\u001b[1m[\u001b[0m\u001b[34;49mnotice\u001b[0m\u001b[1;39;49m]\u001b[0m\u001b[39;49m To update, run: \u001b[0m\u001b[32;49mpip3 install --upgrade pip\u001b[0m\n"
          ]
        }
      ],
      "source": [
        "!pip3 install -qU portkey_ai"
      ]
    },
    {
      "cell_type": "code",
      "execution_count": null,
      "metadata": {
        "id": "3v7FsUPd0fqv"
      },
      "outputs": [],
      "source": [
        "from portkey_ai import Portkey\n",
        "\n",
        "api_key=\"YOUR_PORTKEY_API_KEY\"\n",
        "virtual_key=\"YOUR_MISTRAL_AI_VIRTUAL_KEY\"\n",
        "\n",
        "# Initialize Portkey with your API keys\n",
        "portkey = Portkey(\n",
        "    api_key=api_key,  # Your Portkey API key\n",
        "    virtual_key=virtual_key  # Your Mistral Virtual Key from Portkey\n",
        ")"
      ]
    },
    {
      "cell_type": "markdown",
      "metadata": {
        "id": "3mT9sHx59H_X"
      },
      "source": [
        "# 1. Basic Chat Completion\n",
        "Let's start with a simple chat completion using Mistral model:"
      ]
    },
    {
      "cell_type": "code",
      "execution_count": 41,
      "metadata": {
        "id": "zmuhbLeN9KV4"
      },
      "outputs": [
        {
          "name": "stdout",
          "output_type": "stream",
          "text": [
            "Generative AI has several purposes, all centered around creating or generating new content. Here are some of its main purposes:\n",
            "\n",
            "1. **Content Creation**: Generative AI can create various types of content, including text, images, music, and more. For example:\n",
            "   - Writing assistance: It can help draft emails, articles, stories, and even code.\n",
            "   - Art and design: It can generate images, logos, or other design elements.\n",
            "   - Music generation: It can compose new music or generate unique sounds.\n",
            "\n",
            "2. **Data Augmentation**: Generative AI can create synthetic data that can be used to train other AI models. This is particularly useful when data is scarce or needs to be anonymized.\n",
            "\n",
            "3. **Personalized Marketing**: Generative AI can create personalized content for marketing purposes, such as tailored product descriptions or advertisements.\n",
            "\n",
            "4. **Drug Discovery and Material Science**: In scientific fields, generative AI can propose new molecular structures for drugs or materials with desired properties.\n",
            "\n",
            "5. **Anomaly Detection**: By learning the normal pattern, generative AI can identify unusual or anomalous data points or behaviors.\n",
            "\n",
            "6. **World Building and Game Development**: Generative AI can create complex worlds, characters, or quests in games or simulations.\n",
            "\n",
            "7. **Predictive Maintenance**: It can generate potential failure scenarios for machines, helping to anticipate and prevent breakdowns.\n",
            "\n",
            "8. **Education and Training**: Generative AI can create practice problems, quizzes, or realistic simulations for training purposes.\n",
            "\n",
            "9. **Virtual Assistants and Chatbots**: It can generate human-like responses in conversations, improving the interactivity of virtual assistants and chatbots.\n",
            "\n",
            "10. **Entertainment**: Generative AI can create jokes, riddles, or brain teasers for entertainment purposes.\n",
            "\n",
            "The overarching goal of generative AI is to learn patterns in input data and then generate likely examples that follow those patterns.\n",
            "\n",
            "## Popular Generative AI Models and Techniques include:\n",
            "- Generative Adversarial Networks (GANs)\n",
            "- Variational Autoencoders (VAEs)\n",
            "- Transformers and Language Models (e.g., me)\n",
            "- Autoregressive Models\n",
            "- Diffusion Models\n"
          ]
        }
      ],
      "source": [
        "from portkey_ai import Portkey\n",
        "\n",
        "completion = portkey.chat.completions.create(\n",
        "    messages=[{\n",
        "        \"role\": \"user\",\n",
        "        \"content\": \"What's the purpose of Generative AI?\"\n",
        "    }],\n",
        "    model=\"mistral-large-latest\"\n",
        ")\n",
        "\n",
        "print(completion.choices[0].message.content)"
      ]
    },
    {
      "cell_type": "markdown",
      "metadata": {
        "id": "I4NvLrGeC0hT"
      },
      "source": [
        "# Caching\n",
        "Portkey offers built in caching for your Mistral AI requests. Portey has 2 types of caching built-in\n",
        "\n",
        "\n",
        "1.   Simple\n",
        "2.   Semantic\n",
        "\n",
        "Here's how you can implement cacing in your Mistral AI requests\n",
        "\n"
      ]
    },
    {
      "cell_type": "code",
      "execution_count": 42,
      "metadata": {
        "id": "EQBgReT_Cz5M"
      },
      "outputs": [
        {
          "name": "stdout",
          "output_type": "stream",
          "text": [
            "Hello! How can I assist you today? If you're up for it, I can tell a joke to start. Here it is:\n",
            "\n",
            "What do you call a fake noodle? An impasta.\n"
          ]
        }
      ],
      "source": [
        "portkey_caching_config = {\n",
        "    \"cache\": { \"mode\": \"simple\" }\n",
        "}\n",
        "\n",
        "portkey_client = Portkey(\n",
        "    api_key=api_key, # Enter Yout Portkey API Key\n",
        "    virtual_key=virtual_key,\n",
        "    config=portkey_caching_config\n",
        ")\n",
        "\n",
        "# Test load-balanced request\n",
        "response = portkey_client.chat.completions.create(\n",
        "    messages=[{\"role\": \"user\", \"content\": \"Hello!\"}],\n",
        "    model=\"mistral-large-latest\"\n",
        ")\n",
        "print(response.choices[0].message.content)"
      ]
    },
    {
      "cell_type": "markdown",
      "metadata": {
        "id": "zJPJO0-T9KmE"
      },
      "source": [
        "# Advanced Routing Features\n"
      ]
    },
    {
      "cell_type": "markdown",
      "metadata": {
        "id": "bu99LzUB9Uhd"
      },
      "source": [
        "## 2.1 Load Balancing\n",
        "\n",
        "Portkey allows you to distribute traffic across multiple models or API keys:"
      ]
    },
    {
      "cell_type": "code",
      "execution_count": 43,
      "metadata": {
        "id": "hw1olemh9LA4"
      },
      "outputs": [
        {
          "name": "stdout",
          "output_type": "stream",
          "text": [
            "Hello! How can I assist you today? Let's chat about anything you'd like. 😊\n"
          ]
        }
      ],
      "source": [
        "load_balance_config = {\n",
        "    \"strategy\": {\n",
        "        \"mode\": \"loadbalance\"\n",
        "    },\n",
        "    \"targets\": [\n",
        "        {\n",
        "            \"virtual_key\": f\"{virtual_key}\",  # Your Mistral Virtual Key API key\n",
        "            \"override_params\": {\n",
        "                \"model\": \"mistral-large-latest\"\n",
        "            },\n",
        "            \"weight\": 0.7\n",
        "        },\n",
        "        {\n",
        "            \"virtual_key\": f\"{virtual_key}\",  # Your Mistral Virtual Key key\n",
        "            \"override_params\": {\n",
        "                \"model\": \"mistral-small-latest\"\n",
        "            },\n",
        "            \"weight\": 0.3\n",
        "        }\n",
        "    ]\n",
        "}\n",
        "\n",
        "portkey_lb = Portkey(\n",
        "    api_key=api_key, # Enter Yout Portkey API Key\n",
        "    config=load_balance_config\n",
        ")\n",
        "\n",
        "# Test load-balanced request\n",
        "response = portkey_lb.chat.completions.create(\n",
        "    messages=[{\"role\": \"user\", \"content\": \"Hello!\"}]\n",
        ")\n",
        "print(response.choices[0].message.content)"
      ]
    },
    {
      "cell_type": "markdown",
      "metadata": {
        "id": "-bWprnGt9LSE"
      },
      "source": [
        "# 2.2 Fallbacks & Retries\n",
        "Configure automatic retries and fallbacks for improved reliability:\n"
      ]
    },
    {
      "cell_type": "code",
      "execution_count": 44,
      "metadata": {
        "id": "qLdKmHoU9LqU"
      },
      "outputs": [
        {
          "name": "stdout",
          "output_type": "stream",
          "text": [
            "Hello! How can I assist you today? Let's have a friendly conversation.  How are you doing?\n"
          ]
        }
      ],
      "source": [
        "fallback_config = {\n",
        "    \"strategy\": {\n",
        "        \"mode\": \"fallback\"\n",
        "    },\n",
        "    \"targets\": [\n",
        "        {\n",
        "            \"virtual_key\": f\"{virtual_key}\",\n",
        "            \"override_params\": {\"model\": \"mistral-large-latest\"}\n",
        "        },\n",
        "        {\n",
        "            \"virtual_key\": f\"{virtual_key}\",\n",
        "            \"override_params\": {\"model\": \"mistral-small-latest\"}\n",
        "        }\n",
        "    ]\n",
        "}\n",
        "\n",
        "portkey_fb = Portkey(\n",
        "    api_key=api_key, # Enter Yout Portkey API Key\n",
        "    config=fallback_config\n",
        ")\n",
        "\n",
        "# Test load-balanced request\n",
        "response = portkey_fb.chat.completions.create(\n",
        "    messages=[{\"role\": \"user\", \"content\": \"Hello!\"}]\n",
        ")\n",
        "print(response.choices[0].message.content)"
      ]
    },
    {
      "cell_type": "markdown",
      "metadata": {
        "id": "aeskmD31AO3A"
      },
      "source": [
        "Portkey has powerful routing strategies beyond what we've covered. You can use conditional routing to direct requests based on custom rules, implement advanced retry mechanisms, conduct A/B testing between models, and much more. Check out [Portkey docs](docs.portkey.ai) to explore these advanced routing capabilities in detail."
      ]
    },
    {
      "cell_type": "markdown",
      "metadata": {
        "id": "80NYnIxE9mdH"
      },
      "source": [
        "# Enhanced Observability\n",
        "## Track User Metadata\n",
        "Add metadata and trace IDs to track requests:\n",
        "\n",
        "\n"
      ]
    },
    {
      "cell_type": "code",
      "execution_count": 45,
      "metadata": {
        "id": "c8HHmDto9mLs"
      },
      "outputs": [
        {
          "name": "stdout",
          "output_type": "stream",
          "text": [
            "Portkey is a framework designed to facilitate the development of decentralized applications (dApps) on the Aptos blockchain. Here are some of the main features of Portkey:\n",
            "\n",
            "1. **User-Friendly Interface**: Portkey provides an intuitive and user-friendly interface for developers to create, deploy, and manage dApps on the Aptos blockchain. This makes it easier for developers to interact with the blockchain and build applications without needing deep technical knowledge.\n",
            "\n",
            "2. **Seamless Deployment**: Portkey simplifies the deployment process of dApps on the Aptos blockchain. It offers tools and templates that streamline the development workflow, allowing developers to focus more on the logic and functionality of their applications rather than the deployment complexities.\n",
            "\n",
            "3. **Scalability**: By leveraging the Aptos blockchain, which is designed for high throughput and low latency, Portkey ensures that dApps built on the platform can handle a large number of transactions efficiently. This scalability is crucial for applications that require high performance and reliability.\n",
            "\n",
            "4. **Security**: Aptos is known for its robust security features, and Portkey extends these security benefits to the applications built on the platform. This includes secure smart contract execution, tamper-proof data storage, and strong cryptographic protocols.\n",
            "\n",
            "5. **Interoperability**: Portkey supports interoperability with other blockchains and decentralized systems, allowing developers to build applications that can interact with multiple ecosystems. This feature is essential for creating versatile and comprehensive dApps that leverage the strengths of different blockchains.\n",
            "\n",
            "6. **Developer Tools**: Portkey offers a range of developer tools, including SDKs, APIs, and libraries, to help developers build, test, and deploy their dApps more efficiently. These tools are designed to integrate seamlessly with the Aptos blockchain and provide a cohesive development environment.\n",
            "\n",
            "7. **Community and Support**: Portkey fosters a vibrant community of developers and enthusiasts who contribute to the ecosystem. This community provides support, resources, and collaboration opportunities, making it easier for developers to overcome challenges and build innovative applications.\n",
            "\n",
            "8. **Customizable Modules**: Portkey provides customizable modules and templates that developers can use to quickly set up and configure their dApps. These modules can be tailored to specific use cases, allowing for flexibility and ease of use.\n",
            "\n",
            "9. **Compliance and Regulation**: Portkey ensures that dApps built on the platform comply with relevant regulations and standards. This is crucial for applications that deal with sensitive data or financial transactions, providing peace of mind for developers and users alike.\n",
            "\n",
            "10. **Continuous Improvement**: Portkey is committed to continuous improvement and innovation. The framework is regularly updated with new features, enhancements, and security patches to keep up with the evolving needs of developers and the blockchain industry.\n",
            "\n",
            "Overall, Portkey aims to empower developers by providing a comprehensive and efficient framework for building and deploying dApps on the Aptos blockchain, making the development process more accessible and streamlined.\n"
          ]
        }
      ],
      "source": [
        "TRACE_ID = 'mistral-test'\n",
        "METADATA = {\n",
        "    \"_environment\": \"production\",\n",
        "    \"_user\": \"user_123\",\n",
        "    \"_prompt_type\": \"general_query\"\n",
        "}\n",
        "\n",
        "completion = portkey.chat.completions.create(\n",
        "    messages=[{\n",
        "        \"role\": \"user\",\n",
        "        \"content\": \"What are the main features of Portkey?\"\n",
        "    }],\n",
        "    model=\"mistral-large-latest\",\n",
        "    metadata=METADATA,\n",
        "    trace_id=TRACE_ID\n",
        ")\n",
        "\n",
        "print(completion.choices[0].message.content)"
      ]
    },
    {
      "cell_type": "markdown",
      "metadata": {
        "id": "lf4BRZhx_oJq"
      },
      "source": [
        "![dasbhboard](https://github.com/siddharthsambharia-portkey/Portkey-Product-Images/blob/main/Portkey-Dashboard.png?raw=true)\n",
        "\n",
        "![logs](https://github.com/siddharthsambharia-portkey/Portkey-Product-Images/blob/main/Portkey-Logs.png?raw=true)\n"
      ]
    },
    {
      "cell_type": "markdown",
      "metadata": {
        "id": "yqSQnGI-_L3J"
      },
      "source": [
        "# 6.3 Prompt Library\n",
        "\n",
        "The Portkey Prompt Library is a powerful tool for managing your prompts efficiently:\n",
        "\n",
        "- Create, edit, and organize prompts in a central location\n",
        "- Version control your prompts without needing to redeploy your application\n",
        "- Collaborate with team members on prompt development\n",
        "- Test prompts directly in the interface\n",
        "- Organize prompts into collections for better management\n",
        "\n",
        "\n",
        "\n",
        "\n",
        "![prompt library](https://github.com/siddharthsambharia-portkey/Portkey-Product-Images/blob/main/Portkey-Prompt-Library.png?raw=tru)"
      ]
    },
    {
      "cell_type": "markdown",
      "metadata": {
        "id": "equLhYXeEYfs"
      },
      "source": [
        "\n",
        "## Portkey is the Production Stack for your Building your Gen AI Application with Mistral AI\n",
        "\n",
        "**⚙️ Advanced Controls**\n",
        "- **Guardrails**: Prevent PII leaks, enforce output formats, block prompt injections\n",
        "- **Conditional Routing**: Route requests based on content, cost, or performance\n",
        "- **Multimodal Support**: Combine Mistral with image/audio models in single pipelines\n",
        "\n",
        "**🤝 Team Collaboration**\n",
        "- **Prompt Library**: Version-controlled prompts with team collaboration\n",
        "- **Central Monitoring**: Unified dashboard for all Mistral endpoints\n",
        "- **RBAC Controls**: Granular permissions for models/features\n",
        "- **Shared Configs**: Reusable routing templates across projects\n",
        "\n",
        "**🏢 Enterprise Foundation**\n",
        "- SOC 2/GDPR/HIPAA compliance\n",
        "- Private cloud deployments\n",
        "- Custom retention policies\n",
        "- SSO/SAML integration\n",
        "- Dedicated support SLAs\n",
        "\n",
        "[Explore Portkey's Full Capabilities →](https://portkey.ai)"
      ]
    },
    {
      "cell_type": "markdown",
      "metadata": {
        "id": "1fhzvWVP9xOA"
      },
      "source": [
        "# Next Steps\n",
        "\n",
        "- Visit [Portkey Documentation](https://docs.portkey.ai) for detailed API reference\n",
        "- Join the [Portkey Discord](https://discord.gg/SqX9epQKNR) for community support\n",
        "\n",
        "\n",
        "This cookbook demonstrates the key features of using Mistral models through Portkey's AI Gateway"
      ]
    }
  ],
  "metadata": {
    "colab": {
      "provenance": []
    },
    "kernelspec": {
      "display_name": "Python 3",
      "name": "python3"
    },
    "language_info": {
      "codemirror_mode": {
        "name": "ipython",
        "version": 3
      },
      "file_extension": ".py",
      "mimetype": "text/x-python",
      "name": "python",
      "nbconvert_exporter": "python",
      "pygments_lexer": "ipython3",
      "version": "3.13.2"
    }
  },
  "nbformat": 4,
  "nbformat_minor": 0
}
