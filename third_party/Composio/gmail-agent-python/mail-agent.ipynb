{
 "cells": [
  {
   "cell_type": "markdown",
   "metadata": {},
   "source": [
    "# Building an AI Email Assistant with Mistral AI and Composio\n",
    "\n",
    "This notebook demonstrates how to build an AI-powered email assistant using [Mistral AI](https://mistral.ai/) and [Composio](https://app.composio.dev/). By using Mistral’s large language models (LLMs) and Composio’s Gmail tool, we can create a system capable of performing common Gmail actions such as sending, fetching, drafting emails etc., all through natural language commands.\n",
    "\n",
    "In this guide, we'll create an AI email assistant that can automatically reply to received emails! "
   ]
  },
  {
   "cell_type": "markdown",
   "metadata": {},
   "source": [
    "## Setup and Dependencies\n"
   ]
  },
  {
   "cell_type": "markdown",
   "metadata": {},
   "source": [
    "### Python Libraries\n",
    "\n",
    "Install the necessary libraries to set up the AI agent - "
   ]
  },
  {
   "cell_type": "code",
   "execution_count": null,
   "metadata": {},
   "outputs": [],
   "source": [
    "!pip install composio_langchain composio_core langchain-mistralai -U "
   ]
  },
  {
   "cell_type": "markdown",
   "metadata": {},
   "source": [
    "### Mistral AI API\n",
    "\n",
    "Sign up at [Mistral AI](https://mistral.ai/) and generate an API key from the console. This key will be used to access Mistral's LLM models."
   ]
  },
  {
   "cell_type": "code",
   "execution_count": 1,
   "metadata": {},
   "outputs": [],
   "source": [
    "import os\n",
    "os.environ['MISTRAL_API_KEY']=\"your_mistral_api_key\""
   ]
  },
  {
   "cell_type": "markdown",
   "metadata": {},
   "source": [
    "### Composio set up"
   ]
  },
  {
   "cell_type": "code",
   "execution_count": null,
   "metadata": {},
   "outputs": [],
   "source": [
    "!composio login"
   ]
  },
  {
   "cell_type": "markdown",
   "metadata": {},
   "source": [
    "In your command line, run - "
   ]
  },
  {
   "cell_type": "code",
   "execution_count": null,
   "metadata": {},
   "outputs": [],
   "source": [
    "!composio add gmail"
   ]
  },
  {
   "cell_type": "markdown",
   "metadata": {},
   "source": [
    "This will set up an integration between your gmail account and Composio."
   ]
  },
  {
   "cell_type": "markdown",
   "metadata": {},
   "source": [
    "Also, run - "
   ]
  },
  {
   "cell_type": "code",
   "execution_count": null,
   "metadata": {},
   "outputs": [],
   "source": [
    "!composio triggers enable gmail_new_gmail_message"
   ]
  },
  {
   "cell_type": "markdown",
   "metadata": {},
   "source": [
    "This command enables the trigger for when a new mail is received."
   ]
  },
  {
   "cell_type": "markdown",
   "metadata": {},
   "source": [
    "## Building the Email Assistant\n",
    "\n",
    "### Initialize Composio's tools\n",
    "\n",
    "The first thing we do is initialize Composio's tools."
   ]
  },
  {
   "cell_type": "code",
   "execution_count": null,
   "metadata": {},
   "outputs": [],
   "source": [
    "from composio_langchain import Action, ComposioToolSet\n",
    "\n",
    "toolset = ComposioToolSet()\n",
    "tools = toolset.get_tools(\n",
    "    actions=[\n",
    "        Action.GMAIL_REPLY_TO_THREAD,\n",
    "        Action.GMAIL_SEND_EMAIL,\n",
    "    ],\n",
    ")"
   ]
  },
  {
   "cell_type": "markdown",
   "metadata": {},
   "source": [
    "The various actions represent functions that the LLM can call. In order for Mistral models to understand the functions, we need to outline the function specifications with a JSON schema. Specifically, we need to describe the type, function name, function description, function parameters, and the required parameter for the function. Composio does this and provides an optimized JSON schema, making it very easy to integrate external tools with LLMs. For example, for the `GMAIL_SEND_EMAIL` action, this is the schema provided to the model - "
   ]
  },
  {
   "cell_type": "markdown",
   "metadata": {},
   "source": [
    "```\n",
    "{\n",
    "\t\"properties\":{\n",
    "\t\t\"recipient_email\":{\n",
    "\t\t\t\"description\":\"Email address of the recipient\",\n",
    "\t\t\t\"examples\":[\"john@doe.com\"],\n",
    "\t\t\t\"title\":\"Recipient Email\",\n",
    "\t\t\t\"type\":\"string\"\n",
    "\t\t\t},\n",
    "\t\t\t\"subject\":{\n",
    "\t\t\t\t\"description\":\"Subject of the email\",\n",
    "\t\t\t\t\"examples\":[\"meeting\"],\n",
    "\t\t\t\t\"title\":\"Subject\",\n",
    "\t\t\t\t\"type\":\"string\"\n",
    "\t\t\t},\n",
    "\t\t\t\"body\":{\n",
    "\t\t\t\t\"description\":\"Body content of the email\",\n",
    "\t\t\t\t\"examples\":[\"Hey, nice talking to you\"],\n",
    "\t\t\t\t\"title\":\"Body\",\n",
    "\t\t\t\t\"type\":\"string\"\n",
    "\t\t\t},\n",
    "\t\t\t\"user_id\":{\n",
    "\t\t\t\t\"default\":\"me\",\n",
    "\t\t\t\t\"description\":\"The user's email address or 'me' for the authenticated user.\",\n",
    "\t\t\t\t\"title\":\"User Id\",\n",
    "\t\t\t\t\"type\":\"string\"\n",
    "\t\t\t}\n",
    "\t\t},\n",
    "\t\t\"required\":[\n",
    "\t\t\t\"recipient_email\",\n",
    "\t\t\t\"subject\",\n",
    "\t\t\t\"body\"\n",
    "\t\t],\n",
    "\t\t\"title\":\"CreateEmailDraftRequest\",\n",
    "\t\t\"type\":\"object\"\n",
    "}"
   ]
  },
  {
   "cell_type": "markdown",
   "metadata": {},
   "source": [
    "### Setting up the model\n",
    "\n"
   ]
  },
  {
   "cell_type": "code",
   "execution_count": 4,
   "metadata": {},
   "outputs": [],
   "source": [
    "from langchain_mistralai import ChatMistralAI\n",
    "from langchain_core.prompts import ChatPromptTemplate\n",
    "\n",
    "llm = ChatMistralAI(model=\"mistral-large-latest\")\n",
    "prompt = ChatPromptTemplate.from_messages(\n",
    "    [\n",
    "        (\n",
    "            \"system\",\n",
    "            \"You are an AI email assistant that can write and reply to emails. Follow the user’s instructions carefully and perform the requested actions.\",\n",
    "        ),\n",
    "        (\"human\", \"{input}\"),\n",
    "        (\"placeholder\", \"{agent_scratchpad}\"),\n",
    "    ]\n",
    ")"
   ]
  },
  {
   "cell_type": "markdown",
   "metadata": {},
   "source": [
    "We then create the agent and also create a listener for the trigger we created above."
   ]
  },
  {
   "cell_type": "code",
   "execution_count": null,
   "metadata": {},
   "outputs": [],
   "source": [
    "from langchain.agents import AgentExecutor, create_tool_calling_agent\n",
    "\n",
    "agent = create_tool_calling_agent(\n",
    "    llm=llm,\n",
    "    tools=tools,\n",
    "    prompt=prompt,\n",
    ")\n",
    "\n",
    "agent_executor = AgentExecutor(agent=agent, tools=tools, verbose=True)\n",
    "\n",
    "# Create a trigger listener\n",
    "listener = toolset.create_trigger_listener()"
   ]
  },
  {
   "cell_type": "markdown",
   "metadata": {},
   "source": [
    "After this, we can attach a callback to the listener. This callback function is called whenever the trigger receives data."
   ]
  },
  {
   "cell_type": "code",
   "execution_count": null,
   "metadata": {},
   "outputs": [],
   "source": [
    "from composio import Trigger\n",
    "@listener.callback(filters={\"trigger_name\": Trigger.GMAIL_NEW_GMAIL_MESSAGE})\n",
    "def on_new_gmail_message(event) -> None:\n",
    "    try:\n",
    "        print(\"data received\", event)\n",
    "\n",
    "\t\t\t\t# Extract the relevant information from the event\n",
    "        payload = event.payload\n",
    "        thread_id = payload[\"threadId\"]\n",
    "        message = payload[\"messageText\"]\n",
    "        sender_mail = payload[\"sender\"]\n",
    "\n",
    "        # you can also customize input to only respond to certain emails\n",
    "        res = agent_executor.invoke({\"input\": f\"This is the mail you have to respond to: {message}. It's from {sender_mail} and the threadId is {thread_id}. Generate a response based on the {message} and then reply through tool calling.\"})\n",
    "        print(res)\n",
    "    except Exception as e:\n",
    "        print(\"Error:\", e)\n",
    "\n",
    "print(\"Listener started!\")\n",
    "listener.wait_forever()"
   ]
  },
  {
   "cell_type": "markdown",
   "metadata": {},
   "source": [
    "As can be seen in the above code, there are a lot of customization possiblities for the agent, both in the information that can be extracted from the trigger and how that information is used. "
   ]
  },
  {
   "cell_type": "markdown",
   "metadata": {},
   "source": [
    "## Conclusion\n",
    "\n",
    "In this guide, we built an AI email assistant by combining Mistral’s LLMs with Composio’s prebuilt actions. By following the steps outlined in this guide, you can extend this framework to other applications, creating versatile tools that leverage the power of LLMs and function calling.\n",
    "\n"
   ]
  },
  {
   "cell_type": "markdown",
   "metadata": {},
   "source": [
    "### Connect with Composio and learn more\n",
    "\n",
    "If you encounter any problems, please let us know at out [Discord](https://discord.com/invite/cNruWaAhQk).\n",
    "\n",
    "Check out [Composio's documentation](https://docs.composio.dev/introduction/intro/overview) to learn more about how to use and integrate various tools for different usecases."
   ]
  }
 ],
 "metadata": {
  "kernelspec": {
   "display_name": "Python 3",
   "language": "python",
   "name": "python3"
  },
  "language_info": {
   "codemirror_mode": {
    "name": "ipython",
    "version": 3
   },
   "file_extension": ".py",
   "mimetype": "text/x-python",
   "name": "python",
   "nbconvert_exporter": "python",
   "pygments_lexer": "ipython3",
   "version": "3.10.0"
  }
 },
 "nbformat": 4,
 "nbformat_minor": 2
}
