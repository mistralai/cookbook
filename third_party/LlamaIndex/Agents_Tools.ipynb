{
 "cells": [
  {
   "cell_type": "markdown",
   "id": "24103c51",
   "metadata": {},
   "source": [
    "<a href=\"https://colab.research.google.com/github/mistralai/cookbook/blob/main/third_party/LlamaIndex/Agents_Tools.ipynb\" target=\"_parent\"><img src=\"https://colab.research.google.com/assets/colab-badge.svg\" alt=\"Open In Colab\"/></a>"
   ]
  },
  {
   "cell_type": "markdown",
   "id": "99cea58c-48bc-4af6-8358-df9695659983",
   "metadata": {},
   "source": [
    "# Build a ReAct Agents with Mistral AI and LlamaIndex"
   ]
  },
  {
   "cell_type": "markdown",
   "id": "673df1fe-eb6c-46ea-9a73-a96e7ae7942e",
   "metadata": {},
   "source": [
    "This notebook shows you how to use `ReAct` Agent and `FunctionCalling` Agent over defined tools and RAG pipeline with MistralAI LLM."
   ]
  },
  {
   "cell_type": "markdown",
   "id": "54b7bc2e-606f-411a-9490-fcfab9236dfc",
   "metadata": {},
   "source": [
    "### Installation"
   ]
  },
  {
   "cell_type": "markdown",
   "id": "41101795",
   "metadata": {},
   "source": [
    "If you're opening this Notebook on colab, you will probably need to install LlamaIndex 🦙.\n"
   ]
  },
  {
   "cell_type": "code",
   "execution_count": null,
   "id": "4985c578",
   "metadata": {},
   "outputs": [],
   "source": [
    "!pip install llama-index\n",
    "!pip install llama-index-llms-mistralai\n",
    "!pip install llama-index-embeddings-mistralai"
   ]
  },
  {
   "cell_type": "markdown",
   "id": "1f705c9b-98cc-4681-81a6-e0c51e6f3136",
   "metadata": {},
   "source": [
    "### Setup API Key"
   ]
  },
  {
   "cell_type": "code",
   "execution_count": 1,
   "id": "40da114a-facf-4d15-beff-4468ea5662e0",
   "metadata": {},
   "outputs": [],
   "source": [
    "import os\n",
    "os.environ['MISTRAL_API_KEY'] = 'YOUR MISTRAL API KEY'"
   ]
  },
  {
   "cell_type": "code",
   "execution_count": 2,
   "id": "9d47283b-025e-4874-88ed-76245b22f82e",
   "metadata": {},
   "outputs": [],
   "source": [
    "import json\n",
    "from typing import Sequence, List\n",
    "\n",
    "from llama_index.llms.mistralai import MistralAI\n",
    "from llama_index.core.llms import ChatMessage\n",
    "from llama_index.core.tools import BaseTool, FunctionTool\n",
    "\n",
    "import nest_asyncio\n",
    "\n",
    "nest_asyncio.apply()"
   ]
  },
  {
   "cell_type": "markdown",
   "id": "6fe08eb1-e638-4c00-9103-5c305bfacccf",
   "metadata": {},
   "source": [
    "Let's define some very simple calculator tools for our agent."
   ]
  },
  {
   "cell_type": "code",
   "execution_count": 3,
   "id": "3dd3c4a6-f3e0-46f9-ad3b-7ba57d1bc992",
   "metadata": {},
   "outputs": [],
   "source": [
    "def multiply(a: int, b: int) -> int:\n",
    "    \"\"\"Multiple two integers and returns the result integer\"\"\"\n",
    "    return a * b\n",
    "\n",
    "\n",
    "multiply_tool = FunctionTool.from_defaults(fn=multiply)"
   ]
  },
  {
   "cell_type": "code",
   "execution_count": 4,
   "id": "bfcfb78b-7d4f-48d9-8d4c-ffcded23e7ac",
   "metadata": {},
   "outputs": [],
   "source": [
    "def add(a: int, b: int) -> int:\n",
    "    \"\"\"Add two integers and returns the result integer\"\"\"\n",
    "    return a + b\n",
    "\n",
    "\n",
    "add_tool = FunctionTool.from_defaults(fn=add)"
   ]
  },
  {
   "cell_type": "markdown",
   "id": "eeac7d4c-58fd-42a5-9da9-c258375c61a0",
   "metadata": {},
   "source": [
    "Make sure your MISTRAL_API_KEY is set. Otherwise explicitly specify the `api_key` parameter."
   ]
  },
  {
   "cell_type": "code",
   "execution_count": 5,
   "id": "4becf171-6632-42e5-bdec-918a00934696",
   "metadata": {},
   "outputs": [],
   "source": [
    "llm = MistralAI(model=\"mistral-large-latest\")"
   ]
  },
  {
   "cell_type": "markdown",
   "id": "707d30b8-6405-4187-a9ed-6146dcc42167",
   "metadata": {},
   "source": [
    "### With FunctionCalling Agent"
   ]
  },
  {
   "cell_type": "markdown",
   "id": "798ca3fd-6711-4c0c-a853-d868dd14b484",
   "metadata": {},
   "source": [
    "Here we initialize a simple `FunctionCalling` agent with calculator functions."
   ]
  },
  {
   "cell_type": "code",
   "execution_count": 6,
   "id": "38ab3938-1138-43ea-b085-f430b42f5377",
   "metadata": {},
   "outputs": [],
   "source": [
    "from llama_index.core.agent import FunctionCallingAgentWorker\n",
    "from llama_index.core.agent import AgentRunner\n",
    "\n",
    "agent_worker = FunctionCallingAgentWorker.from_tools(\n",
    "    [multiply_tool, add_tool],\n",
    "    llm=llm,\n",
    "    verbose=True,\n",
    "    allow_parallel_tool_calls=False,\n",
    ")\n",
    "agent = AgentRunner(agent_worker)"
   ]
  },
  {
   "cell_type": "markdown",
   "id": "500cbee4",
   "metadata": {},
   "source": [
    "#### Chat"
   ]
  },
  {
   "cell_type": "code",
   "execution_count": 7,
   "id": "9450401d-769f-46e8-8bab-0f27f7362f5d",
   "metadata": {},
   "outputs": [
    {
     "name": "stdout",
     "output_type": "stream",
     "text": [
      "Added user message to memory: What is (121 + 2) * 5?\n",
      "=== Calling Function ===\n",
      "Calling function: add with args: {\"a\": 121, \"b\": 2}\n",
      "=== Calling Function ===\n",
      "Calling function: multiply with args: {\"a\": 123, \"b\": 5}\n",
      "assistant: The result of (121 + 2) * 5 is 615.\n"
     ]
    }
   ],
   "source": [
    "response = agent.chat(\"What is (121 + 2) * 5?\")\n",
    "print(str(response))"
   ]
  },
  {
   "cell_type": "code",
   "execution_count": 8,
   "id": "538bf32f",
   "metadata": {},
   "outputs": [
    {
     "name": "stdout",
     "output_type": "stream",
     "text": [
      "[ToolOutput(content='123', tool_name='add', raw_input={'args': (), 'kwargs': {'a': 121, 'b': 2}}, raw_output=123), ToolOutput(content='615', tool_name='multiply', raw_input={'args': (), 'kwargs': {'a': 123, 'b': 5}}, raw_output=615)]\n"
     ]
    }
   ],
   "source": [
    "# inspect sources\n",
    "print(response.sources)"
   ]
  },
  {
   "cell_type": "markdown",
   "id": "fb33983c",
   "metadata": {},
   "source": [
    "#### Async Chat\n",
    "\n",
    "Also let's re-enable parallel function calling so that we can call two `multiply` operations simultaneously."
   ]
  },
  {
   "cell_type": "code",
   "execution_count": 9,
   "id": "1d1fc974",
   "metadata": {},
   "outputs": [
    {
     "name": "stdout",
     "output_type": "stream",
     "text": [
      "Added user message to memory: What is (121 * 3) + (5 * 8)?\n",
      "=== Calling Function ===\n",
      "Calling function: multiply with args: {\"a\": 121, \"b\": 3}\n",
      "=== Calling Function ===\n",
      "Calling function: multiply with args: {\"a\": 5, \"b\": 8}\n",
      "=== Calling Function ===\n",
      "Calling function: add with args: {\"a\": 363, \"b\": 40}\n",
      "assistant: The result of (121 * 3) + (5 * 8) is 403.\n"
     ]
    }
   ],
   "source": [
    "# enable parallel function calling\n",
    "agent_worker = FunctionCallingAgentWorker.from_tools(\n",
    "    [multiply_tool, add_tool],\n",
    "    llm=llm,\n",
    "    verbose=True,\n",
    "    allow_parallel_tool_calls=True,\n",
    ")\n",
    "agent = AgentRunner(agent_worker)\n",
    "response = await agent.achat(\"What is (121 * 3) + (5 * 8)?\")\n",
    "print(str(response))"
   ]
  },
  {
   "cell_type": "markdown",
   "id": "7688cbf8-c577-463d-9726-7386dc631cf3",
   "metadata": {},
   "source": [
    "### With ReAct Agent"
   ]
  },
  {
   "cell_type": "code",
   "execution_count": 10,
   "id": "b959fef9-03db-4871-bd1e-fec212220db5",
   "metadata": {},
   "outputs": [
    {
     "name": "stdout",
     "output_type": "stream",
     "text": [
      "\u001b[1;3;38;5;200mThought: The current language of the user is: English. I need to use a tool to help me answer the question.\n",
      "Action: multiply\n",
      "Action Input: {\"a\": 121, \"b\": 3}\n",
      "\n",
      "Observation: 363\n",
      "\n",
      "Thought: I need to use another tool to complete the calculation.\n",
      "Action: multiply\n",
      "Action Input: {\"a\": 5, \"b\": 8}\n",
      "\n",
      "Observation: 40\n",
      "\n",
      "Thought: I need to use one more tool to complete the calculation.\n",
      "Action: add\n",
      "Action Input: {\"a\": 363, \"b\": 40}\n",
      "\n",
      "Observation: 403\n",
      "\n",
      "Thought: I can answer without using any more tools. I'll use the user's language to answer.\n",
      "Answer: The result of (121 * 3) + (5 * 8) is 403.\n",
      "\u001b[0mThe result of (121 * 3) + (5 * 8) is 403.\n"
     ]
    }
   ],
   "source": [
    "from llama_index.core.agent import ReActAgent\n",
    "\n",
    "agent = ReActAgent.from_tools([multiply_tool, add_tool], llm=llm, verbose=True)\n",
    "\n",
    "response = agent.chat(\"What is (121 * 3) + (5 * 8)?\")\n",
    "print(str(response))"
   ]
  },
  {
   "cell_type": "markdown",
   "id": "cabfdf01-8d63-43ff-b06e-a3059ede2ddf",
   "metadata": {},
   "source": [
    "### Agent over RAG Pipeline\n",
    "\n",
    "Build a Mistral FunctionCalling agent over a simple 10K document. We use both Mistral embeddings and mistral-medium to construct the RAG pipeline, and pass it to the Mistral agent as a tool."
   ]
  },
  {
   "cell_type": "code",
   "execution_count": 11,
   "id": "48120dd4-7f50-426f-bc7e-a903e090d32e",
   "metadata": {},
   "outputs": [
    {
     "name": "stdout",
     "output_type": "stream",
     "text": [
      "--2024-04-03 19:01:37--  https://raw.githubusercontent.com/run-llama/llama_index/main/docs/docs/examples/data/10k/uber_2021.pdf\n",
      "Resolving raw.githubusercontent.com (raw.githubusercontent.com)... 185.199.109.133, 185.199.108.133, 185.199.111.133, ...\n",
      "Connecting to raw.githubusercontent.com (raw.githubusercontent.com)|185.199.109.133|:443... connected.\n",
      "HTTP request sent, awaiting response... 200 OK\n",
      "Length: 1880483 (1.8M) [application/octet-stream]\n",
      "Saving to: ‘data/10k/uber_2021.pdf’\n",
      "\n",
      "data/10k/uber_2021. 100%[===================>]   1.79M  --.-KB/s    in 0.04s   \n",
      "\n",
      "2024-04-03 19:01:38 (40.3 MB/s) - ‘data/10k/uber_2021.pdf’ saved [1880483/1880483]\n",
      "\n"
     ]
    }
   ],
   "source": [
    "!mkdir -p 'data/10k/'\n",
    "!wget 'https://raw.githubusercontent.com/run-llama/llama_index/main/docs/docs/examples/data/10k/uber_2021.pdf' -O 'data/10k/uber_2021.pdf'"
   ]
  },
  {
   "cell_type": "code",
   "execution_count": 12,
   "id": "48c0cf98-3f10-4599-8437-d88dc89cefad",
   "metadata": {},
   "outputs": [],
   "source": [
    "from llama_index.core.tools import QueryEngineTool, ToolMetadata\n",
    "from llama_index.core import SimpleDirectoryReader, VectorStoreIndex\n",
    "from llama_index.embeddings.mistralai import MistralAIEmbedding\n",
    "from llama_index.llms.mistralai import MistralAI\n",
    "\n",
    "embed_model = MistralAIEmbedding()\n",
    "query_llm = MistralAI(model=\"mistral-medium\")\n",
    "\n",
    "# load data\n",
    "uber_docs = SimpleDirectoryReader(\n",
    "    input_files=[\"./data/10k/uber_2021.pdf\"]\n",
    ").load_data()\n",
    "# build index\n",
    "uber_index = VectorStoreIndex.from_documents(\n",
    "    uber_docs, embed_model=embed_model\n",
    ")\n",
    "uber_engine = uber_index.as_query_engine(similarity_top_k=3, llm=query_llm)\n",
    "query_engine_tool = QueryEngineTool(\n",
    "    query_engine=uber_engine,\n",
    "    metadata=ToolMetadata(\n",
    "        name=\"uber_10k\",\n",
    "        description=(\n",
    "            \"Provides information about Uber financials for year 2021. \"\n",
    "            \"Use a detailed plain text question as input to the tool.\"\n",
    "        ),\n",
    "    ),\n",
    ")"
   ]
  },
  {
   "cell_type": "markdown",
   "id": "40aa6679-9fd2-485b-bdfc-f870a7a9ef92",
   "metadata": {},
   "source": [
    "### With FunctionCalling Agent"
   ]
  },
  {
   "cell_type": "code",
   "execution_count": 13,
   "id": "ebfdaf80-e5e1-4c60-b556-20558da3d5e3",
   "metadata": {},
   "outputs": [],
   "source": [
    "from llama_index.core.agent import FunctionCallingAgentWorker\n",
    "from llama_index.core.agent import AgentRunner\n",
    "\n",
    "agent_worker = FunctionCallingAgentWorker.from_tools(\n",
    "    [query_engine_tool], llm=llm, verbose=True\n",
    ")\n",
    "agent = AgentRunner(agent_worker)"
   ]
  },
  {
   "cell_type": "code",
   "execution_count": 22,
   "id": "58c53f2a-0a3f-4abe-b8b6-97a974ec7546",
   "metadata": {},
   "outputs": [
    {
     "name": "stdout",
     "output_type": "stream",
     "text": [
      "\u001b[1;3;38;5;200mThought: The current language of the user is: English. I need to use the uber_10k tool to help me answer the question.\n",
      "Action: uber_10k\n",
      "Action Input: {'input': 'What are the risk factors for Uber in 2021?'}\n",
      "\u001b[0m\u001b[1;3;34mObservation: Uber faces several risk factors in 2021, including:\n",
      "\n",
      "1. Failure to offer or develop autonomous vehicle technologies, which could result in inferior performance or safety concerns compared to competitors.\n",
      "2. Dependence on retaining and attracting high-quality personnel, with attrition or unsuccessful succession planning potentially harming the business.\n",
      "3. Security or data privacy breaches, unauthorized access, or destruction of proprietary, employee, or user data.\n",
      "4. Cyberattacks, such as malware, ransomware, viruses, spamming, and phishing attacks, which could harm the company's reputation and operations.\n",
      "5. Climate change risks, including physical and transitional risks, which may require significant investment of resources and management time.\n",
      "6. Reliance on third parties to maintain open marketplaces for distributing Uber's platform and software, which could be disrupted and negatively impact the business.\n",
      "7. The need for additional capital to support business growth, which may not be available on reasonable terms or at all.\n",
      "8. Challenges in identifying, acquiring, and integrating suitable businesses, which could harm operating results and prospects.\n",
      "9. Legal and regulatory risks, including potential blocks or limitations in providing or operating products and offerings in certain jurisdictions.\n",
      "10. Extensive government regulation and oversight related to payment and financial services.\n",
      "11. Risks related to data collection, use, transfer, disclosure, and processing, which could result in investigations, fines, legislative and regulatory action, and negative press.\n",
      "12. Intellectual property risks, including potential claims of misappropriation by third parties.\n",
      "13. Market price volatility for Uber's common stock, which could decline steeply or suddenly regardless of operating performance, potentially resulting in significant losses for investors.\n",
      "14. Economic risks related to the COVID-19 pandemic, which has adversely impacted and could continue to adversely impact Uber's business, financial condition, and results of operations.\n",
      "15. Decline in the number of drivers, consumers, merchants, shippers, or carriers using the platform, which would reduce the value of the network and harm future operating results.\n",
      "\n",
      "\u001b[0m\u001b[1;3;38;5;200mThought: The current language of the user is: English. I have already provided a detailed answer about the risk factors for Uber in 2021 using the uber_10k tool.\n",
      "Answer: Uber faces several risk factors in 2021, including:\n",
      "\n",
      "1. Failure to offer or develop autonomous vehicle technologies, which could result in inferior performance or safety concerns compared to competitors.\n",
      "2. Dependence on retaining and attracting high-quality personnel, with attrition or unsuccessful succession planning potentially harming the business.\n",
      "3. Security or data privacy breaches, unauthorized access, or destruction of proprietary, employee, or user data.\n",
      "4. Cyberattacks, such as malware, ransomware, viruses, spamming, and phishing attacks, which could harm the company's reputation and operations.\n",
      "5. Climate change risks, including physical and transitional risks, which may require significant investment of resources and management time.\n",
      "6. Reliance on third parties to maintain open marketplaces for distributing Uber's platform and software, which could be disrupted and negatively impact the business.\n",
      "7. The need for additional capital to support business growth, which may not be available on reasonable terms or at all.\n",
      "8. Challenges in identifying, acquiring, and integrating suitable businesses, which could harm operating results and prospects.\n",
      "9. Legal and regulatory risks, including potential blocks or limitations in providing or operating products and offerings in certain jurisdictions.\n",
      "10. Extensive government regulation and oversight related to payment and financial services.\n",
      "11. Risks related to data collection, use, transfer, disclosure, and processing, which could result in investigations, fines, legislative and regulatory action, and negative press.\n",
      "12. Intellectual property risks, including potential claims of misappropriation by third parties.\n",
      "13. Market price volatility for Uber's common stock, which could decline steeply or suddenly regardless of operating performance, potentially resulting in significant losses for investors.\n",
      "14. Economic risks related to the COVID-19 pandemic, which has adversely impacted and could continue to adversely impact Uber's business, financial condition, and results of operations.\n",
      "15. Decline in the number of drivers, consumers, merchants, shippers, or carriers using\n",
      "\u001b[0mUber faces several risk factors in 2021, including:\n",
      "\n",
      "1. Failure to offer or develop autonomous vehicle technologies, which could result in inferior performance or safety concerns compared to competitors.\n",
      "2. Dependence on retaining and attracting high-quality personnel, with attrition or unsuccessful succession planning potentially harming the business.\n",
      "3. Security or data privacy breaches, unauthorized access, or destruction of proprietary, employee, or user data.\n",
      "4. Cyberattacks, such as malware, ransomware, viruses, spamming, and phishing attacks, which could harm the company's reputation and operations.\n",
      "5. Climate change risks, including physical and transitional risks, which may require significant investment of resources and management time.\n",
      "6. Reliance on third parties to maintain open marketplaces for distributing Uber's platform and software, which could be disrupted and negatively impact the business.\n",
      "7. The need for additional capital to support business growth, which may not be available on reasonable terms or at all.\n",
      "8. Challenges in identifying, acquiring, and integrating suitable businesses, which could harm operating results and prospects.\n",
      "9. Legal and regulatory risks, including potential blocks or limitations in providing or operating products and offerings in certain jurisdictions.\n",
      "10. Extensive government regulation and oversight related to payment and financial services.\n",
      "11. Risks related to data collection, use, transfer, disclosure, and processing, which could result in investigations, fines, legislative and regulatory action, and negative press.\n",
      "12. Intellectual property risks, including potential claims of misappropriation by third parties.\n",
      "13. Market price volatility for Uber's common stock, which could decline steeply or suddenly regardless of operating performance, potentially resulting in significant losses for investors.\n",
      "14. Economic risks related to the COVID-19 pandemic, which has adversely impacted and could continue to adversely impact Uber's business, financial condition, and results of operations.\n",
      "15. Decline in the number of drivers, consumers, merchants, shippers, or carriers using\n"
     ]
    }
   ],
   "source": [
    "response = agent.chat(\n",
    "    \"What are the risk factors for Uber in 2021?\"\n",
    ")\n",
    "print(str(response))"
   ]
  },
  {
   "cell_type": "markdown",
   "id": "1d81f7ca-0e03-408a-9f37-96eeeff85037",
   "metadata": {},
   "source": [
    "### With ReAct Agent"
   ]
  },
  {
   "cell_type": "code",
   "execution_count": 23,
   "id": "f3bef0c9-edc7-442d-9a5d-a5941fbf5203",
   "metadata": {},
   "outputs": [
    {
     "name": "stdout",
     "output_type": "stream",
     "text": [
      "\u001b[1;3;38;5;200mThought: The current language of the user is: English. I need to use a tool to help me answer the question.\n",
      "Action: uber_10k\n",
      "Action Input: {'input': 'What are the risk factors for Uber in 2021?'}\n",
      "\u001b[0m\u001b[1;3;34mObservation: Uber faces several risk factors in 2021, including:\n",
      "\n",
      "1. Autonomous vehicle technology: Uber may fail to offer autonomous vehicle technologies on its platform, or such technologies may not perform as expected, be inferior to competitors, or be perceived as less safe.\n",
      "2. Personnel: Uber's business depends on retaining and attracting high-quality personnel, and continued attrition or unsuccessful succession planning could adversely affect its business.\n",
      "3. Data privacy and security breaches: Uber may experience security or data privacy breaches, which could harm its reputation, business, and operating results.\n",
      "4. Cyberattacks: Cyberattacks, including computer malware, ransomware, viruses, spamming, and phishing attacks, could harm Uber's reputation, business, and operating results.\n",
      "5. Climate change risks: Uber is subject to climate change risks, including physical and transitional risks, and if it is unable to manage such risks, its business may be adversely impacted.\n",
      "6. Third-party marketplaces: Uber relies on third parties maintaining open marketplaces to distribute its platform and provide software for its products and offerings. If such third parties interfere with the distribution of Uber's products or offerings or with its use of such software, its business would be adversely affected.\n",
      "7. Capital requirements: Uber will require additional capital to support the growth of its business, and this capital might not be available on reasonable terms or at all.\n",
      "8. Acquisitions: If Uber is unable to successfully identify, acquire, and integrate suitable businesses, its operating results and prospects could be harmed, and any businesses it acquires may not perform as expected or be effectively integrated.\n",
      "9. Legal and regulatory risks: Uber's business is subject to numerous legal and regulatory risks that could have an adverse impact on its business and future prospects.\n",
      "10. Payment and financial services regulation: Uber's business is subject to extensive government regulation and oversight relating to the provision of payment and financial services.\n",
      "11. Data processing risks: Uber faces risks related to its collection, use, transfer, disclosure, and other processing of data, which could result in investig\n",
      "\u001b[0m\u001b[1;3;38;5;200mThought: The current language of the user is: English. I have already used the 'uber_10k' tool to provide the risk factors for Uber in 2021. I can now answer without using any more tools.\n",
      "Answer: Uber faces several risk factors in 2021, including:\n",
      "\n",
      "1. Autonomous vehicle technology: Uber may fail to offer autonomous vehicle technologies on its platform, or such technologies may not perform as expected, be inferior to competitors, or be perceived as less safe.\n",
      "2. Personnel: Uber's business depends on retaining and attracting high-quality personnel, and continued attrition or unsuccessful succession planning could adversely affect its business.\n",
      "3. Data privacy and security breaches: Uber may experience security or data privacy breaches, which could harm its reputation, business, and operating results.\n",
      "4. Cyberattacks: Cyberattacks, including computer malware, ransomware, viruses, spamming, and phishing attacks, could harm Uber's reputation, business, and operating results.\n",
      "5. Climate change risks: Uber is subject to climate change risks, including physical and transitional risks, and if it is unable to manage such risks, its business may be adversely impacted.\n",
      "6. Third-party marketplaces: Uber relies on third parties maintaining open marketplaces to distribute its platform and provide software for its products and offerings. If such third parties interfere with the distribution of Uber's products or offerings or with its use of such software, its business would be adversely affected.\n",
      "7. Capital requirements: Uber will require additional capital to support the growth of its business, and this capital might not be available on reasonable terms or at all.\n",
      "8. Acquisitions: If Uber is unable to successfully identify, acquire, and integrate suitable businesses, its operating results and prospects could be harmed, and any businesses it acquires may not perform as expected or be effectively integrated.\n",
      "9. Legal and regulatory risks: Uber's business is subject to numerous legal and regulatory risks that could have an adverse impact on its business and future prospects.\n",
      "10. Payment and financial services regulation: Uber's business is subject to extensive government regulation and oversight relating to the provision of payment and financial services.\n",
      "11. Data processing risks: Uber\n",
      "\u001b[0mUber faces several risk factors in 2021, including:\n",
      "\n",
      "1. Autonomous vehicle technology: Uber may fail to offer autonomous vehicle technologies on its platform, or such technologies may not perform as expected, be inferior to competitors, or be perceived as less safe.\n",
      "2. Personnel: Uber's business depends on retaining and attracting high-quality personnel, and continued attrition or unsuccessful succession planning could adversely affect its business.\n",
      "3. Data privacy and security breaches: Uber may experience security or data privacy breaches, which could harm its reputation, business, and operating results.\n",
      "4. Cyberattacks: Cyberattacks, including computer malware, ransomware, viruses, spamming, and phishing attacks, could harm Uber's reputation, business, and operating results.\n",
      "5. Climate change risks: Uber is subject to climate change risks, including physical and transitional risks, and if it is unable to manage such risks, its business may be adversely impacted.\n",
      "6. Third-party marketplaces: Uber relies on third parties maintaining open marketplaces to distribute its platform and provide software for its products and offerings. If such third parties interfere with the distribution of Uber's products or offerings or with its use of such software, its business would be adversely affected.\n",
      "7. Capital requirements: Uber will require additional capital to support the growth of its business, and this capital might not be available on reasonable terms or at all.\n",
      "8. Acquisitions: If Uber is unable to successfully identify, acquire, and integrate suitable businesses, its operating results and prospects could be harmed, and any businesses it acquires may not perform as expected or be effectively integrated.\n",
      "9. Legal and regulatory risks: Uber's business is subject to numerous legal and regulatory risks that could have an adverse impact on its business and future prospects.\n",
      "10. Payment and financial services regulation: Uber's business is subject to extensive government regulation and oversight relating to the provision of payment and financial services.\n",
      "11. Data processing risks: Uber\n"
     ]
    }
   ],
   "source": [
    "from llama_index.core.agent import ReActAgent\n",
    "\n",
    "agent = ReActAgent.from_tools([query_engine_tool], llm=llm, verbose=True)\n",
    "\n",
    "response = agent.chat(\"What are the risk factors for Uber in 2021?\")\n",
    "print(str(response))"
   ]
  },
  {
   "cell_type": "code",
   "execution_count": null,
   "id": "1e2d0e2b-a86e-4aae-a775-431c98910d72",
   "metadata": {},
   "outputs": [],
   "source": []
  }
 ],
 "metadata": {
  "kernelspec": {
   "display_name": "Python 3 (ipykernel)",
   "language": "python",
   "name": "python3"
  },
  "language_info": {
   "codemirror_mode": {
    "name": "ipython",
    "version": 3
   },
   "file_extension": ".py",
   "mimetype": "text/x-python",
   "name": "python",
   "nbconvert_exporter": "python",
   "pygments_lexer": "ipython3",
   "version": "3.10.13"
  }
 },
 "nbformat": 4,
 "nbformat_minor": 5
}
